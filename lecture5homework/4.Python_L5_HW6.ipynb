{
 "cells": [
  {
   "cell_type": "markdown",
   "id": "c8beab06",
   "metadata": {},
   "source": [
    "### Задание 1"
   ]
  },
  {
   "cell_type": "code",
   "execution_count": 25,
   "id": "33e5c167",
   "metadata": {},
   "outputs": [
    {
     "name": "stdout",
     "output_type": "stream",
     "text": [
      "2002-10-02 00:00:00 <class 'datetime.datetime'> \n",
      " 2013-10-11 00:00:00 <class 'datetime.datetime'> \n",
      " 1977-08-18 00:00:00 <class 'datetime.datetime'>\n"
     ]
    }
   ],
   "source": [
    "The_Moscow_Times = 'Wednesday, October 2, 2002'\n",
    "The_Guardian = 'Friday, 11.10.13'\n",
    "Daily_News = 'Thursday, 18 August 1977'\n",
    "from datetime import datetime\n",
    "a = datetime.strptime(The_Moscow_Times,'%A, %B %d, %Y')\n",
    "b = datetime.strptime(The_Guardian,'%A, %d.%m.%y')\n",
    "c = datetime.strptime(Daily_News,'%A, %d %B %Y')\n",
    "print( a , type(a),'\\n',b, type(b),'\\n',c,type(c))\n"
   ]
  },
  {
   "cell_type": "markdown",
   "id": "f7163814",
   "metadata": {},
   "source": [
    "\n",
    "### Задание 2"
   ]
  },
  {
   "cell_type": "code",
   "execution_count": 26,
   "id": "a50b2d5f",
   "metadata": {},
   "outputs": [
    {
     "name": "stdout",
     "output_type": "stream",
     "text": [
      "дата 2018-04-02 корректна: True\n",
      "дата 2018-02-29 не корректна: False\n",
      "дата 2018-19-02 не корректна: False\n"
     ]
    }
   ],
   "source": [
    "stream = ['2018-04-02', '2018-02-29', '2018-19-02']\n",
    "from datetime import datetime\n",
    "\n",
    "def validate(stream):\n",
    "    try:\n",
    "        datetime.strptime(stream, '%Y-%m-%d')\n",
    "        print(f'дата {dt} корректна: {True}')\n",
    "    except ValueError:\n",
    "        print(f'дата {dt} не корректна: {False}')\n",
    "\n",
    "for dt in stream:\n",
    "    validate(dt)"
   ]
  },
  {
   "cell_type": "markdown",
   "id": "d8a2eeaa",
   "metadata": {},
   "source": [
    "### Задание 3"
   ]
  },
  {
   "cell_type": "code",
   "execution_count": 27,
   "id": "72e8e96b",
   "metadata": {},
   "outputs": [
    {
     "data": {
      "text/plain": [
       "['2018-04-02',\n",
       " '2018-04-03',\n",
       " '2018-04-04',\n",
       " '2018-04-05',\n",
       " '2018-04-06',\n",
       " '2018-04-07',\n",
       " '2018-04-08',\n",
       " '2018-04-09',\n",
       " '2018-04-10']"
      ]
     },
     "execution_count": 27,
     "metadata": {},
     "output_type": "execute_result"
    }
   ],
   "source": [
    "from datetime import datetime, timedelta\n",
    "def date_range(start_date,end_date):\n",
    "    days = []\n",
    "    try:\n",
    "        start_dt=datetime.strptime(start_date,'%Y-%m-%d')\n",
    "        end_dt=datetime.strptime(end_date,'%Y-%m-%d')    \n",
    "        while start_dt <= end_dt:\n",
    "            print_datetime = datetime.strftime(start_dt,'%Y-%m-%d')\n",
    "            days.append(print_datetime)\n",
    "            start_dt += timedelta(days = 1)\n",
    "        return(days)\n",
    "    except ValueError:\n",
    "        print(days)\n",
    "    \n",
    "    \n",
    "    \n",
    "    \n",
    "    \n",
    "    \n",
    "date_range('2018-04-02','2018-04-10')\n",
    "#date_range('2018-04-10','2018-04-02')\n",
    "#date_range('2018-04-02','2018.04.10')"
   ]
  },
  {
   "cell_type": "markdown",
   "id": "8fd1342f",
   "metadata": {},
   "source": [
    "### Задание 4"
   ]
  },
  {
   "cell_type": "code",
   "execution_count": null,
   "id": "42362ab5",
   "metadata": {},
   "outputs": [],
   "source": [
    "\"\"\"1)Компьютер на старте цикла получает и запоминает одну длину списка с числами, \n",
    "а во время выполнения эта длина меняется. Компьютер, держа в памяти старую длину, \n",
    "пытается обратиться по номерам к тем элементам, которых уже нет в списке.\n",
    "2) При первом запуске номера элементов еще не изменились\"\"\"\n"
   ]
  }
 ],
 "metadata": {
  "kernelspec": {
   "display_name": "Python 3 (ipykernel)",
   "language": "python",
   "name": "python3"
  },
  "language_info": {
   "codemirror_mode": {
    "name": "ipython",
    "version": 3
   },
   "file_extension": ".py",
   "mimetype": "text/x-python",
   "name": "python",
   "nbconvert_exporter": "python",
   "pygments_lexer": "ipython3",
   "version": "3.9.7"
  }
 },
 "nbformat": 4,
 "nbformat_minor": 5
}
