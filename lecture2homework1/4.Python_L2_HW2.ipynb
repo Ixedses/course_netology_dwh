{
 "cells": [
  {
   "cell_type": "markdown",
   "id": "c8beab06",
   "metadata": {},
   "source": [
    "### Задание 1\n"
   ]
  },
  {
   "cell_type": "code",
   "execution_count": 1,
   "id": "33e5c167",
   "metadata": {},
   "outputs": [
    {
     "name": "stdout",
     "output_type": "stream",
     "text": [
      "t\n"
     ]
    }
   ],
   "source": [
    "#word='test'\n",
    "word='testing'\n",
    "if len(word)%2==0:\n",
    "    print((word[(len(word)//2)-1]),word[len(word)//2])\n",
    "elif len(word)%2!=0:\n",
    "    print(word[len(word)//2])"
   ]
  },
  {
   "cell_type": "markdown",
   "id": "f7163814",
   "metadata": {},
   "source": [
    "### Задание 2\n"
   ]
  },
  {
   "cell_type": "code",
   "execution_count": 2,
   "id": "a50b2d5f",
   "metadata": {},
   "outputs": [
    {
     "name": "stdout",
     "output_type": "stream",
     "text": [
      "Введите число: 1\n",
      "Введите число: 4\n",
      "Введите число: 6\n",
      "Введите число: 0\n",
      "11\n"
     ]
    }
   ],
   "source": [
    "chis=int (input('Введите число: '))\n",
    "while chis!=0:\n",
    "    chis1=int (input('Введите число: '))\n",
    "    chis+=chis1\n",
    "    if chis1==0:\n",
    "        break\n",
    "print( chis)"
   ]
  },
  {
   "cell_type": "markdown",
   "id": "d8a2eeaa",
   "metadata": {},
   "source": [
    "### Задание 3\n"
   ]
  },
  {
   "cell_type": "code",
   "execution_count": 28,
   "id": "72e8e96b",
   "metadata": {},
   "outputs": [
    {
     "name": "stdout",
     "output_type": "stream",
     "text": [
      "Идеальные пары:\n",
      "Alex и Emma\n",
      "Arthur и Kate\n",
      "John и Kira\n",
      "Peter и Liza\n",
      "Richard и Trisha\n"
     ]
    }
   ],
   "source": [
    "boys = ['Peter', 'Alex', 'John', 'Arthur', 'Richard']\n",
    "#boys = ['Peter', 'Alex', 'John', 'Arthur', 'Richard','Michael']\n",
    "girls = ['Kate', 'Liza', 'Kira', 'Emma', 'Trisha']\n",
    "if len(boys)==len(girls):\n",
    "    print('Идеальные пары:')\n",
    "    for b,g in zip (sorted(boys),sorted(girls)):\n",
    "        print(b,'и',g)    \n",
    "else:\n",
    "    print('Внимание, кто-то может остаться без пары!')"
   ]
  },
  {
   "cell_type": "markdown",
   "id": "f1266234",
   "metadata": {},
   "source": [
    "### Задание 4\n"
   ]
  },
  {
   "cell_type": "code",
   "execution_count": 23,
   "id": "42362ab5",
   "metadata": {},
   "outputs": [
    {
     "name": "stdout",
     "output_type": "stream",
     "text": [
      "Средняя температура в странах: \n",
      "Thailand - 23.9 C\n",
      "Germany - 13.8 C\n",
      "Russia - 3.7 C\n",
      "Poland - 12.0 C\n"
     ]
    }
   ],
   "source": [
    "countries_temperature = [\n",
    "['Thailand', [75.2, 77, 78.8, 73.4, 68, 75.2, 77]],\n",
    "['Germany', [57.2, 55.4, 59, 59, 53.6]],\n",
    "['Russia', [35.6, 37.4, 39.2, 41, 42.8, 39.2, 35.6]],\n",
    "['Poland', [50, 50, 53.6, 57.2, 55.4, 55.4]]\n",
    "]\n",
    "print('Средняя температура в странах: ')\n",
    "for coun,temp in countries_temperature:\n",
    "    print(coun,'-', round (5/9*((sum(temp)/len(temp)-32)),1), 'C')"
   ]
  },
  {
   "cell_type": "markdown",
   "id": "8cec5640",
   "metadata": {},
   "source": [
    "### Задание 5(необязательное)\n"
   ]
  },
  {
   "cell_type": "code",
   "execution_count": 4,
   "id": "ea49f921",
   "metadata": {},
   "outputs": [
    {
     "name": "stdout",
     "output_type": "stream",
     "text": [
      "23.25\n"
     ]
    }
   ],
   "source": [
    "stream = [\n",
    "'2018-01-01,user1,3',\n",
    "'2018-01-07,user1,4',\n",
    "'2018-03-29,user1,1',\n",
    "'2018-04-04,user1,13',\n",
    "'2018-01-05,user2,7',\n",
    "'2018-06-14,user3,4',\n",
    "'2018-07-02,user3,10',\n",
    "'2018-03-21,user4,19',\n",
    "'2018-03-22,user4,4',\n",
    "'2018-04-22,user4,8',\n",
    "'2018-05-03,user4,9',\n",
    "'2018-05-11,user4,11'\n",
    "]\n",
    "\n",
    "#stream = [\n",
    "#'2018-01-01,user100,150',\n",
    "#'2018-01-07,user99,205',\n",
    "#'2018-03-29,user1001,81'\n",
    "#]\n",
    "\n",
    "users,views = 0, 0\n",
    "last_user = ''\n",
    "for s in stream:\n",
    "    s = s.split(',')\n",
    "    if s[1]!=last_user:\n",
    "        users += 1\n",
    "        last_user = s[1]\n",
    "    views += int(s[2])\n",
    "avg = views/users\n",
    "print(avg)"
   ]
  },
  {
   "cell_type": "markdown",
   "id": "54bd8e1d",
   "metadata": {},
   "source": [
    "### Задание 6  (необязательное)\n"
   ]
  },
  {
   "cell_type": "code",
   "execution_count": 14,
   "id": "287b50a1",
   "metadata": {},
   "outputs": [
    {
     "name": "stdout",
     "output_type": "stream",
     "text": [
      "Введите числа: 1 1 1 1 1 2 2 2\n",
      "[1, 2]\n"
     ]
    }
   ],
   "source": [
    "numbers = input('Введите числа: ').split()\n",
    "uniq_numbers =[]\n",
    "for num in numbers:\n",
    "    if numbers.count(num) > 1 and int(num) not in  uniq_numbers:\n",
    "        uniq_numbers.append(int(num))\n",
    "print (sorted(uniq_numbers))"
   ]
  }
 ],
 "metadata": {
  "kernelspec": {
   "display_name": "Python 3 (ipykernel)",
   "language": "python",
   "name": "python3"
  },
  "language_info": {
   "codemirror_mode": {
    "name": "ipython",
    "version": 3
   },
   "file_extension": ".py",
   "mimetype": "text/x-python",
   "name": "python",
   "nbconvert_exporter": "python",
   "pygments_lexer": "ipython3",
   "version": "3.9.7"
  }
 },
 "nbformat": 4,
 "nbformat_minor": 5
}
