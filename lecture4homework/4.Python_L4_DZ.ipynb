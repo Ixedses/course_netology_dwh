{
 "cells": [
  {
   "cell_type": "markdown",
   "id": "c8beab06",
   "metadata": {},
   "source": [
    " ### Задание   1"
   ]
  },
  {
   "cell_type": "code",
   "execution_count": 2,
   "id": "33e5c167",
   "metadata": {},
   "outputs": [
    {
     "name": "stdout",
     "output_type": "stream",
     "text": [
      "{'1840e0b9d4': 'Продукты', '4e4f90fcfb': 'Электроника', 'afea8d72fc': 'Электроника', '373a6055fe': 'Бытовая техника', '9b2ab046f3': 'Электроника'}\n"
     ]
    }
   ],
   "source": [
    "import json\n",
    "purchases={}\n",
    "i=0\n",
    "with open ('purchase_log.txt',encoding = 'UTF8') as f:\n",
    "    for line in f:\n",
    "        line = line.strip()\n",
    "        dict_ = json.loads(line)\n",
    "        key = dict_['user_id']\n",
    "        value = dict_['category']\n",
    "        if key!='user_id':\n",
    "            purchases.setdefault(key,value)    \n",
    "        i += 1\n",
    "        if i > 5:\n",
    "            break\n",
    "\n",
    "            \n",
    "print(purchases)   "
   ]
  },
  {
   "cell_type": "markdown",
   "id": "3e787d3c",
   "metadata": {},
   "source": [
    "\n",
    "    \n",
    " ### Задание   2\n",
    " "
   ]
  },
  {
   "cell_type": "code",
   "execution_count": 1,
   "id": "a50b2d5f",
   "metadata": {},
   "outputs": [],
   "source": [
    "import json\n",
    "purchases={}\n",
    "with open ('purchase_log.txt',encoding = 'UTF8') as f:\n",
    "    for line in f:\n",
    "        line = line.strip()\n",
    "        dict_ = json.loads(line)\n",
    "        key = dict_['user_id']\n",
    "        value = dict_['category']\n",
    "        if key!='user_id':\n",
    "            purchases.setdefault(key,value) \n",
    "            \n",
    "            \n",
    "with open('visit_log.csv', 'r') as f_csv:\n",
    "    with open('funnel.csv', 'w') as f_write:\n",
    "        for line_f_csv in f_csv:\n",
    "            line_list = line_f_csv.strip().split(',')\n",
    "            if line_list[0] in purchases.keys():\n",
    "                line_list.append(purchases[line_list[0]])\n",
    "                add_line = ','.join(line_list)\n",
    "            elif line_list[0] == 'user_id':\n",
    "                line_list.append('category')\n",
    "                add_line = ','.join(line_list)\n",
    "            else:\n",
    "                add_line = ','.join(line_list)\n",
    "            if line_list[0] in purchases.keys():\n",
    "                f_write.write(add_line + '\\n')"
   ]
  },
  {
   "cell_type": "code",
   "execution_count": null,
   "id": "89ebc34b",
   "metadata": {},
   "outputs": [],
   "source": []
  },
  {
   "cell_type": "code",
   "execution_count": 32,
   "id": "72e8e96b",
   "metadata": {},
   "outputs": [],
   "source": []
  },
  {
   "cell_type": "code",
   "execution_count": null,
   "id": "a1bb9270",
   "metadata": {},
   "outputs": [],
   "source": []
  },
  {
   "cell_type": "code",
   "execution_count": null,
   "id": "42362ab5",
   "metadata": {},
   "outputs": [],
   "source": []
  },
  {
   "cell_type": "code",
   "execution_count": null,
   "id": "209d1fdf",
   "metadata": {},
   "outputs": [],
   "source": []
  },
  {
   "cell_type": "code",
   "execution_count": null,
   "id": "661064fe",
   "metadata": {},
   "outputs": [],
   "source": []
  },
  {
   "cell_type": "code",
   "execution_count": null,
   "id": "a74c7020",
   "metadata": {},
   "outputs": [],
   "source": []
  },
  {
   "cell_type": "code",
   "execution_count": null,
   "id": "81dce3b4",
   "metadata": {},
   "outputs": [],
   "source": []
  },
  {
   "cell_type": "code",
   "execution_count": null,
   "id": "9b09f64a",
   "metadata": {},
   "outputs": [],
   "source": []
  }
 ],
 "metadata": {
  "kernelspec": {
   "display_name": "Python 3 (ipykernel)",
   "language": "python",
   "name": "python3"
  },
  "language_info": {
   "codemirror_mode": {
    "name": "ipython",
    "version": 3
   },
   "file_extension": ".py",
   "mimetype": "text/x-python",
   "name": "python",
   "nbconvert_exporter": "python",
   "pygments_lexer": "ipython3",
   "version": "3.9.7"
  }
 },
 "nbformat": 4,
 "nbformat_minor": 5
}
