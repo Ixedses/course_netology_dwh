{
 "cells": [
  {
   "cell_type": "markdown",
   "id": "c8beab06",
   "metadata": {},
   "source": [
    "### Задание 1"
   ]
  },
  {
   "cell_type": "code",
   "execution_count": 55,
   "id": "33e5c167",
   "metadata": {},
   "outputs": [
    {
     "name": "stdout",
     "output_type": "stream",
     "text": [
      "Номер А222BС валиден. Регион: 96\n"
     ]
    }
   ],
   "source": [
    "import re\n",
    "car_id = 'А222BС96'\n",
    "#car_id = 'АБ22ВВ193'\n",
    "def print_num_reg(string):\n",
    "    if  re.findall(r'(\\w{1}\\d{3}\\w{2})(\\d{2})', car_id):\n",
    "        car_result = re.findall(r'(\\w{1}\\d{3}\\w{2})(\\d{2})', car_id)\n",
    "        print('Номер', car_result[0][0],'валиден. Регион:', car_result[0][1])\n",
    "    else:\n",
    "        print('Номер не валиден')\n",
    "        \n",
    "    \n",
    "print_num_reg(car_id)"
   ]
  },
  {
   "cell_type": "markdown",
   "id": "f7163814",
   "metadata": {},
   "source": [
    "### Задание 2"
   ]
  },
  {
   "cell_type": "code",
   "execution_count": 10,
   "id": "a50b2d5f",
   "metadata": {},
   "outputs": [
    {
     "data": {
      "text/plain": [
       "'Напишите функцию которая будет удалять все последовательные повторы слов из заданной строки при помощи регулярных выражений'"
      ]
     },
     "execution_count": 10,
     "metadata": {},
     "output_type": "execute_result"
    }
   ],
   "source": [
    "import re\n",
    "some_string = 'Напишите функцию функцию, которая будет будет будет будет удалять все все все все последовательные повторы слов из из из из заданной строки строки при помощи регулярных выражений'\n",
    "def no_repetitions(string):\n",
    "    return re.sub(r'\\b([^\\W\\d_]+)(\\s+\\1)+\\b', r'\\1', re.sub(r'\\W+', ' ', some_string).strip(), flags=re.I)\n",
    "\n",
    "\n",
    "no_repetitions(some_string)"
   ]
  },
  {
   "cell_type": "markdown",
   "id": "d8a2eeaa",
   "metadata": {},
   "source": [
    "### Задание 3"
   ]
  },
  {
   "cell_type": "code",
   "execution_count": 53,
   "id": "72e8e96b",
   "metadata": {},
   "outputs": [
    {
     "data": {
      "text/plain": [
       "'ИТ'"
      ]
     },
     "execution_count": 53,
     "metadata": {},
     "output_type": "execute_result"
    }
   ],
   "source": [
    "import re\n",
    "some_words = 'Информационные технологии'\n",
    "#some_words = 'Near Field Communication'\n",
    "def print_acronym(string):\n",
    "    regex=r'(\\b\\w)'\n",
    "    list_find=re.findall(regex, string)\n",
    "    str_find=''.join(list_find)\n",
    "    return (str_find.upper())\n",
    "\n",
    "\n",
    "print_acronym(some_words)\n"
   ]
  },
  {
   "cell_type": "markdown",
   "id": "f1266234",
   "metadata": {},
   "source": [
    "### Задание 4"
   ]
  },
  {
   "cell_type": "code",
   "execution_count": 22,
   "id": "42362ab5",
   "metadata": {},
   "outputs": [
    {
     "data": {
      "text/plain": [
       "{'gmail.com': 2, 'test.in': 1, 'ya.ru': 2, 'mail.ru': 1}"
      ]
     },
     "execution_count": 22,
     "metadata": {},
     "output_type": "execute_result"
    }
   ],
   "source": [
    "import re\n",
    "\n",
    "emails = ['test@gmail.com', 'xyz@test.in', 'test@ya.ru', 'xyz@mail.ru', 'xyz@ya.ru', 'xyz@gmail.com']\n",
    "\n",
    "def counting_domains(string):\n",
    "    dic = {}\n",
    "    for i in re.findall(r'(?<=@).+?(?=\\')', str(string)):\n",
    "        dic[i] = dic.setdefault(i, 0) + 1\n",
    "    return dic\n",
    "\n",
    "\n",
    "counting_domains(emails)"
   ]
  },
  {
   "cell_type": "markdown",
   "id": "8cec5640",
   "metadata": {},
   "source": [
    "### Задание 5"
   ]
  },
  {
   "cell_type": "code",
   "execution_count": null,
   "id": "661064fe",
   "metadata": {},
   "outputs": [],
   "source": [
    "\n",
    "\n"
   ]
  },
  {
   "cell_type": "code",
   "execution_count": null,
   "id": "a74c7020",
   "metadata": {},
   "outputs": [],
   "source": []
  },
  {
   "cell_type": "markdown",
   "id": "b17797aa",
   "metadata": {},
   "source": [
    "### Задание 6"
   ]
  },
  {
   "cell_type": "code",
   "execution_count": null,
   "id": "9b09f64a",
   "metadata": {},
   "outputs": [],
   "source": []
  },
  {
   "cell_type": "code",
   "execution_count": null,
   "id": "a6dafe23",
   "metadata": {},
   "outputs": [],
   "source": []
  }
 ],
 "metadata": {
  "kernelspec": {
   "display_name": "Python 3 (ipykernel)",
   "language": "python",
   "name": "python3"
  },
  "language_info": {
   "codemirror_mode": {
    "name": "ipython",
    "version": 3
   },
   "file_extension": ".py",
   "mimetype": "text/x-python",
   "name": "python",
   "nbconvert_exporter": "python",
   "pygments_lexer": "ipython3",
   "version": "3.9.7"
  }
 },
 "nbformat": 4,
 "nbformat_minor": 5
}
