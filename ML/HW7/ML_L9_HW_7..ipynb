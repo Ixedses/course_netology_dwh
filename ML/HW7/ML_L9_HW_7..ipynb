{
 "cells": [
  {
   "cell_type": "markdown",
   "id": "57e185b3",
   "metadata": {},
   "source": [
    "# Задание\n",
    "Теперь решаем задачу регрессии - предскажем цены на недвижимость. Использовать датасет www.kaggle.com...iques/data (train.csv)\n",
    "Построить случайный лес, вывести важность признаков\n",
    "Обучить стекинг как минимум 3х моделей, использовать хотя бы 1 линейную модель и 1 нелинейную\n",
    "В качестве решения: Jupyter notebook с кодом, комментариями и графиками"
   ]
  },
  {
   "cell_type": "code",
   "execution_count": 1,
   "id": "176b7c90",
   "metadata": {},
   "outputs": [],
   "source": [
    "import pandas as pd\n",
    "import numpy as np\n",
    "from sklearn.ensemble import RandomForestRegressor\n",
    "from sklearn.model_selection import train_test_split\n",
    "from sklearn.model_selection import GridSearchCV\n",
    "from sklearn.model_selection import ShuffleSplit\n",
    "from sklearn.metrics import make_scorer\n",
    "from sklearn.metrics import r2_score\n",
    "from matplotlib import pyplot as plt\n",
    "\n"
   ]
  },
  {
   "cell_type": "code",
   "execution_count": 2,
   "id": "f7ce005e",
   "metadata": {},
   "outputs": [],
   "source": [
    "data  =  pd.read_csv('train.csv')"
   ]
  },
  {
   "cell_type": "code",
   "execution_count": 4,
   "id": "b2b9ac3d",
   "metadata": {},
   "outputs": [
    {
     "data": {
      "text/html": [
       "<div>\n",
       "<style scoped>\n",
       "    .dataframe tbody tr th:only-of-type {\n",
       "        vertical-align: middle;\n",
       "    }\n",
       "\n",
       "    .dataframe tbody tr th {\n",
       "        vertical-align: top;\n",
       "    }\n",
       "\n",
       "    .dataframe thead th {\n",
       "        text-align: right;\n",
       "    }\n",
       "</style>\n",
       "<table border=\"1\" class=\"dataframe\">\n",
       "  <thead>\n",
       "    <tr style=\"text-align: right;\">\n",
       "      <th></th>\n",
       "      <th>Id</th>\n",
       "      <th>MSSubClass</th>\n",
       "      <th>MSZoning</th>\n",
       "      <th>LotFrontage</th>\n",
       "      <th>LotArea</th>\n",
       "      <th>Street</th>\n",
       "      <th>Alley</th>\n",
       "      <th>LotShape</th>\n",
       "      <th>LandContour</th>\n",
       "      <th>Utilities</th>\n",
       "      <th>...</th>\n",
       "      <th>PoolArea</th>\n",
       "      <th>PoolQC</th>\n",
       "      <th>Fence</th>\n",
       "      <th>MiscFeature</th>\n",
       "      <th>MiscVal</th>\n",
       "      <th>MoSold</th>\n",
       "      <th>YrSold</th>\n",
       "      <th>SaleType</th>\n",
       "      <th>SaleCondition</th>\n",
       "      <th>SalePrice</th>\n",
       "    </tr>\n",
       "  </thead>\n",
       "  <tbody>\n",
       "    <tr>\n",
       "      <th>0</th>\n",
       "      <td>1</td>\n",
       "      <td>60</td>\n",
       "      <td>RL</td>\n",
       "      <td>65.0</td>\n",
       "      <td>8450</td>\n",
       "      <td>Pave</td>\n",
       "      <td>NaN</td>\n",
       "      <td>Reg</td>\n",
       "      <td>Lvl</td>\n",
       "      <td>AllPub</td>\n",
       "      <td>...</td>\n",
       "      <td>0</td>\n",
       "      <td>NaN</td>\n",
       "      <td>NaN</td>\n",
       "      <td>NaN</td>\n",
       "      <td>0</td>\n",
       "      <td>2</td>\n",
       "      <td>2008</td>\n",
       "      <td>WD</td>\n",
       "      <td>Normal</td>\n",
       "      <td>208500</td>\n",
       "    </tr>\n",
       "    <tr>\n",
       "      <th>1</th>\n",
       "      <td>2</td>\n",
       "      <td>20</td>\n",
       "      <td>RL</td>\n",
       "      <td>80.0</td>\n",
       "      <td>9600</td>\n",
       "      <td>Pave</td>\n",
       "      <td>NaN</td>\n",
       "      <td>Reg</td>\n",
       "      <td>Lvl</td>\n",
       "      <td>AllPub</td>\n",
       "      <td>...</td>\n",
       "      <td>0</td>\n",
       "      <td>NaN</td>\n",
       "      <td>NaN</td>\n",
       "      <td>NaN</td>\n",
       "      <td>0</td>\n",
       "      <td>5</td>\n",
       "      <td>2007</td>\n",
       "      <td>WD</td>\n",
       "      <td>Normal</td>\n",
       "      <td>181500</td>\n",
       "    </tr>\n",
       "    <tr>\n",
       "      <th>2</th>\n",
       "      <td>3</td>\n",
       "      <td>60</td>\n",
       "      <td>RL</td>\n",
       "      <td>68.0</td>\n",
       "      <td>11250</td>\n",
       "      <td>Pave</td>\n",
       "      <td>NaN</td>\n",
       "      <td>IR1</td>\n",
       "      <td>Lvl</td>\n",
       "      <td>AllPub</td>\n",
       "      <td>...</td>\n",
       "      <td>0</td>\n",
       "      <td>NaN</td>\n",
       "      <td>NaN</td>\n",
       "      <td>NaN</td>\n",
       "      <td>0</td>\n",
       "      <td>9</td>\n",
       "      <td>2008</td>\n",
       "      <td>WD</td>\n",
       "      <td>Normal</td>\n",
       "      <td>223500</td>\n",
       "    </tr>\n",
       "    <tr>\n",
       "      <th>3</th>\n",
       "      <td>4</td>\n",
       "      <td>70</td>\n",
       "      <td>RL</td>\n",
       "      <td>60.0</td>\n",
       "      <td>9550</td>\n",
       "      <td>Pave</td>\n",
       "      <td>NaN</td>\n",
       "      <td>IR1</td>\n",
       "      <td>Lvl</td>\n",
       "      <td>AllPub</td>\n",
       "      <td>...</td>\n",
       "      <td>0</td>\n",
       "      <td>NaN</td>\n",
       "      <td>NaN</td>\n",
       "      <td>NaN</td>\n",
       "      <td>0</td>\n",
       "      <td>2</td>\n",
       "      <td>2006</td>\n",
       "      <td>WD</td>\n",
       "      <td>Abnorml</td>\n",
       "      <td>140000</td>\n",
       "    </tr>\n",
       "    <tr>\n",
       "      <th>4</th>\n",
       "      <td>5</td>\n",
       "      <td>60</td>\n",
       "      <td>RL</td>\n",
       "      <td>84.0</td>\n",
       "      <td>14260</td>\n",
       "      <td>Pave</td>\n",
       "      <td>NaN</td>\n",
       "      <td>IR1</td>\n",
       "      <td>Lvl</td>\n",
       "      <td>AllPub</td>\n",
       "      <td>...</td>\n",
       "      <td>0</td>\n",
       "      <td>NaN</td>\n",
       "      <td>NaN</td>\n",
       "      <td>NaN</td>\n",
       "      <td>0</td>\n",
       "      <td>12</td>\n",
       "      <td>2008</td>\n",
       "      <td>WD</td>\n",
       "      <td>Normal</td>\n",
       "      <td>250000</td>\n",
       "    </tr>\n",
       "    <tr>\n",
       "      <th>5</th>\n",
       "      <td>6</td>\n",
       "      <td>50</td>\n",
       "      <td>RL</td>\n",
       "      <td>85.0</td>\n",
       "      <td>14115</td>\n",
       "      <td>Pave</td>\n",
       "      <td>NaN</td>\n",
       "      <td>IR1</td>\n",
       "      <td>Lvl</td>\n",
       "      <td>AllPub</td>\n",
       "      <td>...</td>\n",
       "      <td>0</td>\n",
       "      <td>NaN</td>\n",
       "      <td>MnPrv</td>\n",
       "      <td>Shed</td>\n",
       "      <td>700</td>\n",
       "      <td>10</td>\n",
       "      <td>2009</td>\n",
       "      <td>WD</td>\n",
       "      <td>Normal</td>\n",
       "      <td>143000</td>\n",
       "    </tr>\n",
       "    <tr>\n",
       "      <th>6</th>\n",
       "      <td>7</td>\n",
       "      <td>20</td>\n",
       "      <td>RL</td>\n",
       "      <td>75.0</td>\n",
       "      <td>10084</td>\n",
       "      <td>Pave</td>\n",
       "      <td>NaN</td>\n",
       "      <td>Reg</td>\n",
       "      <td>Lvl</td>\n",
       "      <td>AllPub</td>\n",
       "      <td>...</td>\n",
       "      <td>0</td>\n",
       "      <td>NaN</td>\n",
       "      <td>NaN</td>\n",
       "      <td>NaN</td>\n",
       "      <td>0</td>\n",
       "      <td>8</td>\n",
       "      <td>2007</td>\n",
       "      <td>WD</td>\n",
       "      <td>Normal</td>\n",
       "      <td>307000</td>\n",
       "    </tr>\n",
       "    <tr>\n",
       "      <th>7</th>\n",
       "      <td>8</td>\n",
       "      <td>60</td>\n",
       "      <td>RL</td>\n",
       "      <td>NaN</td>\n",
       "      <td>10382</td>\n",
       "      <td>Pave</td>\n",
       "      <td>NaN</td>\n",
       "      <td>IR1</td>\n",
       "      <td>Lvl</td>\n",
       "      <td>AllPub</td>\n",
       "      <td>...</td>\n",
       "      <td>0</td>\n",
       "      <td>NaN</td>\n",
       "      <td>NaN</td>\n",
       "      <td>Shed</td>\n",
       "      <td>350</td>\n",
       "      <td>11</td>\n",
       "      <td>2009</td>\n",
       "      <td>WD</td>\n",
       "      <td>Normal</td>\n",
       "      <td>200000</td>\n",
       "    </tr>\n",
       "    <tr>\n",
       "      <th>8</th>\n",
       "      <td>9</td>\n",
       "      <td>50</td>\n",
       "      <td>RM</td>\n",
       "      <td>51.0</td>\n",
       "      <td>6120</td>\n",
       "      <td>Pave</td>\n",
       "      <td>NaN</td>\n",
       "      <td>Reg</td>\n",
       "      <td>Lvl</td>\n",
       "      <td>AllPub</td>\n",
       "      <td>...</td>\n",
       "      <td>0</td>\n",
       "      <td>NaN</td>\n",
       "      <td>NaN</td>\n",
       "      <td>NaN</td>\n",
       "      <td>0</td>\n",
       "      <td>4</td>\n",
       "      <td>2008</td>\n",
       "      <td>WD</td>\n",
       "      <td>Abnorml</td>\n",
       "      <td>129900</td>\n",
       "    </tr>\n",
       "    <tr>\n",
       "      <th>9</th>\n",
       "      <td>10</td>\n",
       "      <td>190</td>\n",
       "      <td>RL</td>\n",
       "      <td>50.0</td>\n",
       "      <td>7420</td>\n",
       "      <td>Pave</td>\n",
       "      <td>NaN</td>\n",
       "      <td>Reg</td>\n",
       "      <td>Lvl</td>\n",
       "      <td>AllPub</td>\n",
       "      <td>...</td>\n",
       "      <td>0</td>\n",
       "      <td>NaN</td>\n",
       "      <td>NaN</td>\n",
       "      <td>NaN</td>\n",
       "      <td>0</td>\n",
       "      <td>1</td>\n",
       "      <td>2008</td>\n",
       "      <td>WD</td>\n",
       "      <td>Normal</td>\n",
       "      <td>118000</td>\n",
       "    </tr>\n",
       "  </tbody>\n",
       "</table>\n",
       "<p>10 rows × 81 columns</p>\n",
       "</div>"
      ],
      "text/plain": [
       "   Id  MSSubClass MSZoning  LotFrontage  LotArea Street Alley LotShape  \\\n",
       "0   1          60       RL         65.0     8450   Pave   NaN      Reg   \n",
       "1   2          20       RL         80.0     9600   Pave   NaN      Reg   \n",
       "2   3          60       RL         68.0    11250   Pave   NaN      IR1   \n",
       "3   4          70       RL         60.0     9550   Pave   NaN      IR1   \n",
       "4   5          60       RL         84.0    14260   Pave   NaN      IR1   \n",
       "5   6          50       RL         85.0    14115   Pave   NaN      IR1   \n",
       "6   7          20       RL         75.0    10084   Pave   NaN      Reg   \n",
       "7   8          60       RL          NaN    10382   Pave   NaN      IR1   \n",
       "8   9          50       RM         51.0     6120   Pave   NaN      Reg   \n",
       "9  10         190       RL         50.0     7420   Pave   NaN      Reg   \n",
       "\n",
       "  LandContour Utilities  ... PoolArea PoolQC  Fence MiscFeature MiscVal  \\\n",
       "0         Lvl    AllPub  ...        0    NaN    NaN         NaN       0   \n",
       "1         Lvl    AllPub  ...        0    NaN    NaN         NaN       0   \n",
       "2         Lvl    AllPub  ...        0    NaN    NaN         NaN       0   \n",
       "3         Lvl    AllPub  ...        0    NaN    NaN         NaN       0   \n",
       "4         Lvl    AllPub  ...        0    NaN    NaN         NaN       0   \n",
       "5         Lvl    AllPub  ...        0    NaN  MnPrv        Shed     700   \n",
       "6         Lvl    AllPub  ...        0    NaN    NaN         NaN       0   \n",
       "7         Lvl    AllPub  ...        0    NaN    NaN        Shed     350   \n",
       "8         Lvl    AllPub  ...        0    NaN    NaN         NaN       0   \n",
       "9         Lvl    AllPub  ...        0    NaN    NaN         NaN       0   \n",
       "\n",
       "  MoSold YrSold  SaleType  SaleCondition  SalePrice  \n",
       "0      2   2008        WD         Normal     208500  \n",
       "1      5   2007        WD         Normal     181500  \n",
       "2      9   2008        WD         Normal     223500  \n",
       "3      2   2006        WD        Abnorml     140000  \n",
       "4     12   2008        WD         Normal     250000  \n",
       "5     10   2009        WD         Normal     143000  \n",
       "6      8   2007        WD         Normal     307000  \n",
       "7     11   2009        WD         Normal     200000  \n",
       "8      4   2008        WD        Abnorml     129900  \n",
       "9      1   2008        WD         Normal     118000  \n",
       "\n",
       "[10 rows x 81 columns]"
      ]
     },
     "execution_count": 4,
     "metadata": {},
     "output_type": "execute_result"
    }
   ],
   "source": [
    "data.head(10)"
   ]
  },
  {
   "cell_type": "code",
   "execution_count": 5,
   "id": "61a4d06f",
   "metadata": {},
   "outputs": [
    {
     "name": "stdout",
     "output_type": "stream",
     "text": [
      "<class 'pandas.core.frame.DataFrame'>\n",
      "RangeIndex: 1460 entries, 0 to 1459\n",
      "Data columns (total 81 columns):\n",
      " #   Column         Non-Null Count  Dtype  \n",
      "---  ------         --------------  -----  \n",
      " 0   Id             1460 non-null   int64  \n",
      " 1   MSSubClass     1460 non-null   int64  \n",
      " 2   MSZoning       1460 non-null   object \n",
      " 3   LotFrontage    1201 non-null   float64\n",
      " 4   LotArea        1460 non-null   int64  \n",
      " 5   Street         1460 non-null   object \n",
      " 6   Alley          91 non-null     object \n",
      " 7   LotShape       1460 non-null   object \n",
      " 8   LandContour    1460 non-null   object \n",
      " 9   Utilities      1460 non-null   object \n",
      " 10  LotConfig      1460 non-null   object \n",
      " 11  LandSlope      1460 non-null   object \n",
      " 12  Neighborhood   1460 non-null   object \n",
      " 13  Condition1     1460 non-null   object \n",
      " 14  Condition2     1460 non-null   object \n",
      " 15  BldgType       1460 non-null   object \n",
      " 16  HouseStyle     1460 non-null   object \n",
      " 17  OverallQual    1460 non-null   int64  \n",
      " 18  OverallCond    1460 non-null   int64  \n",
      " 19  YearBuilt      1460 non-null   int64  \n",
      " 20  YearRemodAdd   1460 non-null   int64  \n",
      " 21  RoofStyle      1460 non-null   object \n",
      " 22  RoofMatl       1460 non-null   object \n",
      " 23  Exterior1st    1460 non-null   object \n",
      " 24  Exterior2nd    1460 non-null   object \n",
      " 25  MasVnrType     1452 non-null   object \n",
      " 26  MasVnrArea     1452 non-null   float64\n",
      " 27  ExterQual      1460 non-null   object \n",
      " 28  ExterCond      1460 non-null   object \n",
      " 29  Foundation     1460 non-null   object \n",
      " 30  BsmtQual       1423 non-null   object \n",
      " 31  BsmtCond       1423 non-null   object \n",
      " 32  BsmtExposure   1422 non-null   object \n",
      " 33  BsmtFinType1   1423 non-null   object \n",
      " 34  BsmtFinSF1     1460 non-null   int64  \n",
      " 35  BsmtFinType2   1422 non-null   object \n",
      " 36  BsmtFinSF2     1460 non-null   int64  \n",
      " 37  BsmtUnfSF      1460 non-null   int64  \n",
      " 38  TotalBsmtSF    1460 non-null   int64  \n",
      " 39  Heating        1460 non-null   object \n",
      " 40  HeatingQC      1460 non-null   object \n",
      " 41  CentralAir     1460 non-null   object \n",
      " 42  Electrical     1459 non-null   object \n",
      " 43  1stFlrSF       1460 non-null   int64  \n",
      " 44  2ndFlrSF       1460 non-null   int64  \n",
      " 45  LowQualFinSF   1460 non-null   int64  \n",
      " 46  GrLivArea      1460 non-null   int64  \n",
      " 47  BsmtFullBath   1460 non-null   int64  \n",
      " 48  BsmtHalfBath   1460 non-null   int64  \n",
      " 49  FullBath       1460 non-null   int64  \n",
      " 50  HalfBath       1460 non-null   int64  \n",
      " 51  BedroomAbvGr   1460 non-null   int64  \n",
      " 52  KitchenAbvGr   1460 non-null   int64  \n",
      " 53  KitchenQual    1460 non-null   object \n",
      " 54  TotRmsAbvGrd   1460 non-null   int64  \n",
      " 55  Functional     1460 non-null   object \n",
      " 56  Fireplaces     1460 non-null   int64  \n",
      " 57  FireplaceQu    770 non-null    object \n",
      " 58  GarageType     1379 non-null   object \n",
      " 59  GarageYrBlt    1379 non-null   float64\n",
      " 60  GarageFinish   1379 non-null   object \n",
      " 61  GarageCars     1460 non-null   int64  \n",
      " 62  GarageArea     1460 non-null   int64  \n",
      " 63  GarageQual     1379 non-null   object \n",
      " 64  GarageCond     1379 non-null   object \n",
      " 65  PavedDrive     1460 non-null   object \n",
      " 66  WoodDeckSF     1460 non-null   int64  \n",
      " 67  OpenPorchSF    1460 non-null   int64  \n",
      " 68  EnclosedPorch  1460 non-null   int64  \n",
      " 69  3SsnPorch      1460 non-null   int64  \n",
      " 70  ScreenPorch    1460 non-null   int64  \n",
      " 71  PoolArea       1460 non-null   int64  \n",
      " 72  PoolQC         7 non-null      object \n",
      " 73  Fence          281 non-null    object \n",
      " 74  MiscFeature    54 non-null     object \n",
      " 75  MiscVal        1460 non-null   int64  \n",
      " 76  MoSold         1460 non-null   int64  \n",
      " 77  YrSold         1460 non-null   int64  \n",
      " 78  SaleType       1460 non-null   object \n",
      " 79  SaleCondition  1460 non-null   object \n",
      " 80  SalePrice      1460 non-null   int64  \n",
      "dtypes: float64(3), int64(35), object(43)\n",
      "memory usage: 924.0+ KB\n"
     ]
    }
   ],
   "source": [
    "data.info()"
   ]
  },
  {
   "cell_type": "code",
   "execution_count": 8,
   "id": "9cc3ccab",
   "metadata": {},
   "outputs": [],
   "source": [
    "# разделяем на тренировочные и тестовые данные\n",
    "data_train, data_test, y_train, y_test = train_test_split(data.drop(columns = 'SalePrice'),\n",
    "                                                          data['SalePrice'],\n",
    "                                                          test_size = 0.30,\n",
    "                                                          random_state = 42)"
   ]
  },
  {
   "cell_type": "code",
   "execution_count": 12,
   "id": "87064352",
   "metadata": {},
   "outputs": [],
   "source": [
    "#находим категориальные признаки\n",
    "\n",
    "categorials = list(data.dtypes[data.dtypes == object].index)\n",
    "\n",
    "categorials_nunique = data_train[categorials].nunique()\n",
    "\n",
    "#закодируем пропущенные значения строкой, факт пропущенного значения тоже может нести в себе информацию\n",
    "data[categorials] = data[categorials].fillna('nan')\n"
   ]
  },
  {
   "cell_type": "code",
   "execution_count": 13,
   "id": "17b226db",
   "metadata": {},
   "outputs": [],
   "source": [
    "# отфильтруем непрерывные признаки\n",
    "\n",
    "integer  = [f for f in data if f not in (categorials + ['ID', 'SalePrice'])]\n"
   ]
  },
  {
   "cell_type": "code",
   "execution_count": 16,
   "id": "9848e3fc",
   "metadata": {},
   "outputs": [],
   "source": [
    "#создаем дамми-переменные для категорий\n",
    "\n",
    "dummy_train = pd.get_dummies(data_train[categorials], columns = categorials)\n",
    "dummy_test = pd.get_dummies(data_test[categorials], columns = categorials)\n",
    "\n",
    "dummy_cols = list(set(dummy_train) & set (dummy_test))\n",
    "\n",
    "dummy_train = dummy_train[dummy_cols]\n",
    "dummy_test = dummy_test[dummy_cols]\n",
    "\n",
    "# Заменяем пропуски на специальные значения -999, что бы деревья могли их отличить(не обязательно теревья)\n",
    "\n",
    "X_train = pd.concat([data_train[integer].fillna(-999), dummy_train], axis = 1)\n",
    "\n",
    "X_test = pd.concat([data_test[integer].fillna(-999), dummy_test], axis = 1)"
   ]
  },
  {
   "cell_type": "markdown",
   "id": "0cb9b8e0",
   "metadata": {},
   "source": [
    "# Бегинг"
   ]
  },
  {
   "cell_type": "code",
   "execution_count": 17,
   "id": "93e7cfd3",
   "metadata": {},
   "outputs": [],
   "source": [
    "from sklearn.ensemble import BaggingRegressor\n",
    "from sklearn.neighbors import KNeighborsRegressor\n",
    "\n",
    "# создаем беггинг передавая ему определенные гиперпараметры\n",
    "bagging = BaggingRegressor(KNeighborsRegressor(), max_samples = 0.5 , max_features = 0.5)"
   ]
  },
  {
   "cell_type": "code",
   "execution_count": 18,
   "id": "bb6abd8d",
   "metadata": {},
   "outputs": [
    {
     "data": {
      "text/plain": [
       "BaggingRegressor(base_estimator=KNeighborsRegressor(), max_features=0.5,\n",
       "                 max_samples=0.5)"
      ]
     },
     "execution_count": 18,
     "metadata": {},
     "output_type": "execute_result"
    }
   ],
   "source": [
    "# обучаем беггинг\n",
    "bagging.fit(X_train, y_train)"
   ]
  },
  {
   "cell_type": "code",
   "execution_count": 19,
   "id": "b18e149e",
   "metadata": {},
   "outputs": [
    {
     "data": {
      "text/plain": [
       "0.7235797235913377"
      ]
     },
     "execution_count": 19,
     "metadata": {},
     "output_type": "execute_result"
    }
   ],
   "source": [
    "bagging.score(X_train,y_train)"
   ]
  },
  {
   "cell_type": "code",
   "execution_count": 20,
   "id": "7af79ad3",
   "metadata": {},
   "outputs": [
    {
     "data": {
      "text/plain": [
       "0.6799139025048868"
      ]
     },
     "execution_count": 20,
     "metadata": {},
     "output_type": "execute_result"
    }
   ],
   "source": [
    "bagging.score(X_train,y_train)"
   ]
  },
  {
   "cell_type": "code",
   "execution_count": 22,
   "id": "8f4ed34c",
   "metadata": {},
   "outputs": [
    {
     "data": {
      "text/plain": [
       "BaggingRegressor(base_estimator=DecisionTreeRegressor(), max_features=0.5,\n",
       "                 max_samples=0.5)"
      ]
     },
     "execution_count": 22,
     "metadata": {},
     "output_type": "execute_result"
    }
   ],
   "source": [
    "#  пробуем на другом алгоритме , и пробуем беггин на решающих деревьях\n",
    "from sklearn.tree import DecisionTreeRegressor\n",
    "# создаем беггинг передавая ему определенные гиперпараметры\n",
    "bagging = BaggingRegressor(DecisionTreeRegressor(), max_samples = 0.5 , max_features = 0.5)\n",
    "# обучаем беггинг\n",
    "bagging.fit(X_train, y_train)"
   ]
  },
  {
   "cell_type": "code",
   "execution_count": 23,
   "id": "ea3cf61d",
   "metadata": {},
   "outputs": [
    {
     "data": {
      "text/plain": [
       "0.9196022940331499"
      ]
     },
     "execution_count": 23,
     "metadata": {},
     "output_type": "execute_result"
    }
   ],
   "source": [
    "bagging.score(X_train,y_train)"
   ]
  },
  {
   "cell_type": "code",
   "execution_count": 24,
   "id": "bd429b3e",
   "metadata": {},
   "outputs": [
    {
     "data": {
      "text/plain": [
       "0.8484128408008345"
      ]
     },
     "execution_count": 24,
     "metadata": {},
     "output_type": "execute_result"
    }
   ],
   "source": [
    "bagging.score(X_test,y_test)"
   ]
  },
  {
   "cell_type": "code",
   "execution_count": 26,
   "id": "ca9b9d52",
   "metadata": {},
   "outputs": [
    {
     "data": {
      "text/plain": [
       "RandomForestRegressor()"
      ]
     },
     "execution_count": 26,
     "metadata": {},
     "output_type": "execute_result"
    }
   ],
   "source": [
    "# создаем модель рандомного леса(беггинг над деревьями, но с использованием случайных подпространств)\n",
    "clf_rf = RandomForestRegressor()\n",
    "clf_rf.fit (X_train, y_train)\n"
   ]
  },
  {
   "cell_type": "code",
   "execution_count": 28,
   "id": "a4d841ff",
   "metadata": {},
   "outputs": [
    {
     "data": {
      "text/plain": [
       "0.9776461195323027"
      ]
     },
     "execution_count": 28,
     "metadata": {},
     "output_type": "execute_result"
    }
   ],
   "source": [
    "# проверяем полученные данные на тренировочных данных\n",
    "clf_rf.score(X_train,y_train)"
   ]
  },
  {
   "cell_type": "code",
   "execution_count": 30,
   "id": "d783902e",
   "metadata": {},
   "outputs": [
    {
     "data": {
      "text/plain": [
       "0.8938788046477368"
      ]
     },
     "execution_count": 30,
     "metadata": {},
     "output_type": "execute_result"
    }
   ],
   "source": [
    "# проверяем полученные данные на тестовых данных\n",
    "clf_rf.score(X_test,y_test)"
   ]
  },
  {
   "cell_type": "code",
   "execution_count": null,
   "id": "a0b30832",
   "metadata": {},
   "outputs": [],
   "source": [
    "# модель получилось немного переобученная"
   ]
  },
  {
   "cell_type": "code",
   "execution_count": null,
   "id": "cae036ba",
   "metadata": {},
   "outputs": [],
   "source": [
    "#  выявляем наиболее важные признаки и выводим на график. \n",
    "# Большое значение имеет признак Overall Qual, остальные почти равны нулю"
   ]
  },
  {
   "cell_type": "code",
   "execution_count": 31,
   "id": "5cd31ce9",
   "metadata": {},
   "outputs": [],
   "source": [
    "imp = pd.Series(clf_rf.feature_importances_)"
   ]
  },
  {
   "cell_type": "code",
   "execution_count": 32,
   "id": "0ad33d5e",
   "metadata": {},
   "outputs": [],
   "source": [
    "imp.index  = pd.Series(X_train.columns)"
   ]
  },
  {
   "cell_type": "code",
   "execution_count": 34,
   "id": "776b89eb",
   "metadata": {},
   "outputs": [
    {
     "data": {
      "image/png": "[encoded data removed]",
      "text/plain": [
       "<Figure size 432x288 with 1 Axes>"
      ]
     },
     "metadata": {
      "needs_background": "light"
     },
     "output_type": "display_data"
    }
   ],
   "source": [
    "plt.title(' Top 5 feuture importances')\n",
    "plt.xlabel('Features')\n",
    "plt.ylabel('Gini')\n",
    "plt.bar(imp.sort_values(ascending=False).head().index, imp.sort_values(ascending = False).head())\n",
    "plt.show()"
   ]
  },
  {
   "cell_type": "markdown",
   "id": "973c41fe",
   "metadata": {},
   "source": [
    "# Стэккинг\n",
    "\n"
   ]
  },
  {
   "cell_type": "code",
   "execution_count": 35,
   "id": "6b230bdc",
   "metadata": {},
   "outputs": [],
   "source": [
    "from sklearn.ensemble import StackingRegressor \n",
    "from sklearn.linear_model import LinearRegression\n",
    "from sklearn.linear_model import RidgeCV\n",
    "from sklearn.tree import DecisionTreeRegressor\n",
    "from sklearn.neighbors import KNeighborsRegressor"
   ]
  },
  {
   "cell_type": "code",
   "execution_count": 39,
   "id": "3e4d9b5a",
   "metadata": {},
   "outputs": [],
   "source": [
    "# создаем стэккинг и обучаем его на наших данных\n",
    "\n",
    "Regressor = StackingRegressor(\n",
    "[\n",
    "    ('LinearRegression',LinearRegression()),# Берем сначало обычную линейную регресисию\n",
    "    ('KNeighborsRegressor',KNeighborsRegressor()),#  потом алгоритм на ближайших соседей\n",
    "    ('DecisionTreeRegressor', DecisionTreeRegressor())  # потом регрессор на основе решающего дерева   \n",
    "], RidgeCV() # Все 3 алгоритма дают нам ответ и  этот ответ с помощью линейной регресии обьединяем с L2 регуляризацией для того что бы сильно коллерированные данные нормально обьединились\n",
    ")\n"
   ]
  },
  {
   "cell_type": "markdown",
   "id": "b725b964",
   "metadata": {},
   "source": [
    "С помощью крос валидации  ...CV() проверяется качество.\n",
    "\n",
    "Крос вадидация работает:  \n",
    "\n",
    "вся выборка обучающая делится на фолды.\n",
    "1  фолд откладываем для теста, на остальных обучаемся.\n",
    "Обучились, и следом подсчитали на тесте качество.\n",
    "Теперь мы замелили фолд и сделаи еще раз, и так прошлись по всем фолдам.\n",
    "И у нас получилось количество значений качества равное количеству фолдов.\n",
    "И мы это качество усредняем. и получаем качество иодели которое она показывает усредненное.\n",
    "Оно меньше зависит от виду разбиения и это значени качество более устойчиво к разбиению.\n"
   ]
  },
  {
   "cell_type": "code",
   "execution_count": 40,
   "id": "86f760b8",
   "metadata": {},
   "outputs": [
    {
     "data": {
      "text/plain": [
       "StackingRegressor(estimators=[('LinearRegression', LinearRegression()),\n",
       "                              ('KNeighborsRegressor', KNeighborsRegressor()),\n",
       "                              ('DecisionTreeRegressor',\n",
       "                               DecisionTreeRegressor())],\n",
       "                  final_estimator=RidgeCV(alphas=array([ 0.1,  1. , 10. ])))"
      ]
     },
     "execution_count": 40,
     "metadata": {},
     "output_type": "execute_result"
    }
   ],
   "source": [
    "Regressor.fit(X_train, y_train)"
   ]
  },
  {
   "cell_type": "code",
   "execution_count": 41,
   "id": "a19a42eb",
   "metadata": {},
   "outputs": [
    {
     "name": "stdout",
     "output_type": "stream",
     "text": [
      " Score on train data 0.9521874664561617\n",
      " Score on test data 0.855335401579457\n",
      " Score on train data with models LinearRegression 0.922108540356243\n",
      " Score on test data with models LinearRegression 0.8533836050579271\n",
      " Score on train data with models KNeighborsRegressor 0.7419951520813983\n",
      " Score on test data with models KNeighborsRegressor 0.6775304068635524\n",
      " Score on train data with models DecisionTreeRegressor 1.0\n",
      " Score on test data with models DecisionTreeRegressor 0.7242587342636269\n"
     ]
    }
   ],
   "source": [
    "print(f' Score on train data {Regressor.score(X_train,y_train)}')\n",
    "print(f' Score on test data {Regressor.score(X_test,y_test)}')\n",
    "\n",
    "for i in Regressor.named_estimators:\n",
    "    print(f' Score on train data with models {i} {Regressor.named_estimators_[i].score(X_train,y_train)}')\n",
    "    print(f' Score on test data with models {i} {Regressor.named_estimators_[i].score(X_test,y_test)}')"
   ]
  },
  {
   "cell_type": "markdown",
   "id": "63eb0a92",
   "metadata": {},
   "source": [
    "Лучше всего справилась линейная регрсссия. деревья решений как и предполагалось переобучилась. Алгоритм ближайшего соседа\n",
    "тоже неплохо справился с задачей"
   ]
  },
  {
   "cell_type": "code",
   "execution_count": 43,
   "id": "21f3b570",
   "metadata": {},
   "outputs": [],
   "source": [
    "score_train = {}\n",
    "score_test = {}\n",
    "\n",
    "for i in Regressor.named_estimators:\n",
    "    score_train[i] = Regressor.named_estimators_[i].score(X_train, y_train)\n",
    "    score_test[i] = Regressor.named_estimators_[i].score(X_test, y_test)\n",
    "    \n",
    "    score_train['Total'] = Regressor.score(X_train, y_train)\n",
    "    score_test['Total'] = Regressor.score(X_test, y_test)"
   ]
  },
  {
   "cell_type": "code",
   "execution_count": 46,
   "id": "254133db",
   "metadata": {},
   "outputs": [
    {
     "data": {
      "text/plain": [
       "<matplotlib.legend.Legend at 0x2426f5333a0>"
      ]
     },
     "execution_count": 46,
     "metadata": {},
     "output_type": "execute_result"
    },
    {
     "data": {
      "image/png": "[encoded data removed]",
      "text/plain": [
       "<Figure size 720x360 with 1 Axes>"
      ]
     },
     "metadata": {
      "needs_background": "light"
     },
     "output_type": "display_data"
    }
   ],
   "source": [
    "#  смотрим график результатов\n",
    "plt.figure(figsize=(10,5))\n",
    "plt.bar(range(len(score_train)), score_train.values(), align = 'center', label = 'Train')\n",
    "plt.xticks(range(len(score_train)), list(score_train.keys()))\n",
    "\n",
    "plt.bar(range(len(score_test)), score_test.values(), align = 'center', label = 'Train')\n",
    "plt.xticks(range(len(score_test)), list(score_test.keys()))\n",
    "\n",
    "plt.autoscale\n",
    "plt.title('Stacking result')\n",
    "plt.xlabel('Models')\n",
    "plt.ylabel('Scores')\n",
    "plt.legend()"
   ]
  },
  {
   "cell_type": "markdown",
   "id": "3508f388",
   "metadata": {},
   "source": [
    "# Бустинг"
   ]
  },
  {
   "cell_type": "code",
   "execution_count": 48,
   "id": "e5b7b177",
   "metadata": {},
   "outputs": [
    {
     "name": "stdout",
     "output_type": "stream",
     "text": [
      "Collecting lightgbm\n",
      "  Downloading lightgbm-3.3.2-py3-none-win_amd64.whl (1.0 MB)\n",
      "Requirement already satisfied: scipy in d:\\anaconda3\\lib\\site-packages (from lightgbm) (1.7.1)\n",
      "Requirement already satisfied: numpy in d:\\anaconda3\\lib\\site-packages (from lightgbm) (1.20.3)\n",
      "Requirement already satisfied: scikit-learn!=0.22.0 in d:\\anaconda3\\lib\\site-packages (from lightgbm) (0.24.2)\n",
      "Requirement already satisfied: wheel in d:\\anaconda3\\lib\\site-packages (from lightgbm) (0.37.0)\n",
      "Requirement already satisfied: joblib>=0.11 in d:\\anaconda3\\lib\\site-packages (from scikit-learn!=0.22.0->lightgbm) (1.1.0)\n",
      "Requirement already satisfied: threadpoolctl>=2.0.0 in d:\\anaconda3\\lib\\site-packages (from scikit-learn!=0.22.0->lightgbm) (2.2.0)\n",
      "Installing collected packages: lightgbm\n",
      "Successfully installed lightgbm-3.3.2\n"
     ]
    }
   ],
   "source": [
    "!pip install lightgbm\n",
    "from lightgbm import LGBMRegressor"
   ]
  },
  {
   "cell_type": "code",
   "execution_count": 52,
   "id": "ab970c74",
   "metadata": {},
   "outputs": [
    {
     "data": {
      "text/plain": [
       "array([141951.15320314, 296659.89205524, 115537.13145   , 156451.31020782,\n",
       "       321895.30763099,  77948.67149285, 223373.24242701, 147411.49535648,\n",
       "        76911.99264539, 126154.1556003 , 155275.46031831, 122764.01080345,\n",
       "       116988.32653636, 194067.6447245 , 168338.72888686, 127771.13435703,\n",
       "       193179.37632143, 127550.32021936, 120825.4087077 , 207029.17831593,\n",
       "       156153.91984137, 226152.26494069, 172048.98027845, 130584.55786535,\n",
       "       203390.28851837, 167128.26707147, 200893.52670638, 104233.31417366,\n",
       "       177107.64725481, 212861.43280882, 118972.33910286, 240548.79935747,\n",
       "       169884.46469426, 110384.26975375, 245769.33868933, 147669.92572792,\n",
       "       118095.01136874, 204178.42156892, 326188.40524616, 111420.12499864,\n",
       "       132800.95690742, 238468.95175748, 118648.38672376, 365456.31350456,\n",
       "       127097.2567579 , 117583.03752973, 114677.6786483 , 123751.75702669,\n",
       "       441475.14089456, 135304.51018489, 117606.87302704, 200746.24476449,\n",
       "       109243.22995949, 386965.29169729, 145471.98944427, 241627.98700929,\n",
       "       195434.92136417, 147865.71902233, 132313.41216039, 114451.72723702,\n",
       "        69548.09381932, 157169.38347018, 324205.44892555, 279874.66994045,\n",
       "       280639.36814791, 237438.08559301, 113523.29529313, 318825.9241966 ,\n",
       "       112645.15964465, 172153.0737024 , 118265.38441538, 128152.39541455,\n",
       "       107133.08084632,  89124.86561237, 456230.73139327, 170884.9956492 ,\n",
       "       309437.80825986, 293374.41551881, 147501.0063349 , 120525.02373886,\n",
       "        96150.01692198,  80768.36059749, 120821.99198563,  96912.01125858,\n",
       "       169892.10739759, 135495.67108661, 263878.99643984, 195741.22645629,\n",
       "       139021.27497317, 172421.61761627, 136713.58340725, 155504.34796696,\n",
       "       127145.19941497, 271373.40179173, 117041.61198785, 179402.62786064,\n",
       "       178370.48352135, 162320.35070389, 230274.142824  , 246176.18656343,\n",
       "       178410.38681094, 213462.43689168, 285913.34808935, 136963.82745031,\n",
       "       188101.14536191, 163915.50919309, 155507.50156209, 284665.45230555,\n",
       "       143418.41289576, 182782.8159929 ,  52459.86941073, 118669.93950611,\n",
       "       133623.57896395, 134457.69880549, 215552.52009573, 114808.35956759,\n",
       "       106200.01744616, 107837.32002157, 140747.39946886, 263282.47748313,\n",
       "       144618.64869102, 141349.09857209, 179721.32110732, 193275.86879186,\n",
       "       155966.02326953, 130214.7877923 , 236665.78469901, 116059.25684836,\n",
       "       141699.08115846, 177918.28263675, 189158.56007088, 359778.60954974,\n",
       "       204003.87599779, 123708.06173759,  74934.66772173, 325106.72968846,\n",
       "       393158.47675006, 128951.43512493, 237110.40342869, 533964.83417362,\n",
       "       373508.41517733, 127495.00007683, 171236.49965636, 154587.12488499,\n",
       "       125911.99059693, 131346.52845826, 245175.81855514, 186226.2047271 ,\n",
       "       130788.91392316,  57851.38066091, 122010.81789774, 150436.26378668,\n",
       "       258606.75705517, 132560.03256196, 101912.5571069 , 123386.54057168,\n",
       "       138781.96876283, 144830.46429507,  87122.4058889 , 136130.60164314,\n",
       "       208009.15147672, 143898.48163578, 348119.66695796, 149402.63091365,\n",
       "       122370.83490655, 106244.75324325, 205903.3306367 , 370570.92865013,\n",
       "       463242.46493934, 255202.10493131, 355466.89027761,  85138.67746901,\n",
       "       105272.61333471, 160641.19272223, 353305.95357585, 133225.48614795,\n",
       "       124016.94524927, 207144.75693571, 127595.97992273, 171828.66999163,\n",
       "       175417.85443863,  95086.4872427 , 134397.5024234 , 136415.87993423,\n",
       "       262906.5598819 , 148814.67220223, 278743.70753882, 213492.3522329 ,\n",
       "       198951.18223654,  82522.4238506 , 120638.74132542, 110015.02597909,\n",
       "       121296.31950959, 147315.92606377, 181663.87802046, 172220.08573077,\n",
       "       214865.99456889,  92970.07269673, 205343.57821211, 129311.00279334,\n",
       "       235095.46471759, 194253.9502355 , 130593.02768331, 322683.91032128,\n",
       "       196292.26772557, 132868.66143464, 230301.83160426, 143815.06595478,\n",
       "       147993.42269182, 110973.77070107, 227785.13826208, 139602.50295668,\n",
       "       117014.7857104 , 169926.98180325, 201398.70651982, 289741.20747773,\n",
       "       182854.06545537, 140264.50707734, 109523.83034401, 126697.96694217,\n",
       "       142547.87878634, 223017.43172547, 192265.44405984, 100193.09096435,\n",
       "       232936.26730044, 148389.30241726, 102789.89103489, 107308.1543649 ,\n",
       "       163982.50341769, 100486.90698489, 107276.02003633, 184457.88961538,\n",
       "       123580.74437447, 126902.57192666, 224966.69800361, 157214.68612414,\n",
       "       206860.84980878, 151326.38229646, 255367.1667872 , 118446.33831061,\n",
       "       120681.83788644, 254781.01393094, 209752.53878835, 443536.21234004,\n",
       "       175566.2059494 , 118177.70712567, 155987.24308281, 154369.93978254,\n",
       "       144227.21430352, 104870.16767355, 166805.60656319, 161058.40709333,\n",
       "       134747.57896706,  98746.20735375, 144648.74910436, 146948.91165665,\n",
       "       107048.34203567, 107367.96184374, 177315.24565542, 260903.68832542,\n",
       "       281674.84330721, 173670.1500228 , 132093.84437058, 217821.49727387,\n",
       "       278566.49856085, 198885.71220031, 167287.04953212, 140065.21275865,\n",
       "       123717.20558905, 167578.74501749, 433517.37670055, 198533.57590892,\n",
       "       237389.68844913,  95328.74107636,  99337.45670505, 141747.53107217,\n",
       "       128120.34887781, 302218.96869358, 221007.80592012, 126635.42613381,\n",
       "       206189.52482172, 100367.72318136, 194904.02502527, 111525.21187788,\n",
       "       336349.06615223, 181512.08625786, 217291.27077558, 113059.23794291,\n",
       "       229377.23036593, 187648.62111747, 130929.23074495, 111915.23660331,\n",
       "       139423.63972954, 181227.38340194,  98467.7994871 , 160147.03431189,\n",
       "       140277.40734735, 133515.49500789, 170206.50268689, 104780.90229198,\n",
       "       171975.54172761, 228426.77866019, 126975.40888755, 155916.35483322,\n",
       "       154648.26017287, 199640.23676956, 151019.98624667, 203208.22502495,\n",
       "       190685.64792704, 133025.10059602, 158068.5238652 , 200533.86423204,\n",
       "        91776.99364256, 156883.30432465, 137930.18220499, 169861.09517615,\n",
       "       188864.81288539, 167641.08040554, 266439.04059057,  92205.01283227,\n",
       "       235436.03248075, 126181.85557153, 132008.82368447,  85526.62058908,\n",
       "       196487.49331642, 163295.74917627, 133759.89490966, 188191.41844977,\n",
       "       158341.83295482,  96322.98282086, 138001.35624233, 160289.29496476,\n",
       "       132386.73449863, 179057.85629051, 167849.96185849, 124329.41720897,\n",
       "       126641.03968234, 106853.65487896,  91968.39622363, 220704.31841185,\n",
       "       177485.93586873, 134190.55549848, 129340.198576  , 179301.34637558,\n",
       "       216196.46763587, 369371.09244199, 331058.67411606, 119726.29099014,\n",
       "       202467.63195107, 123335.13398905, 289161.70096097, 393487.20757032,\n",
       "       307305.98831094, 159143.59362169, 258355.88558352, 135899.95843448,\n",
       "       130466.77499062,  89726.56164386, 198010.77635149, 377759.07944813,\n",
       "       182202.07286902, 132694.47510881, 245602.09110531, 235247.29483007,\n",
       "       130326.67527458, 183116.67787606, 167319.27331961, 111781.0636025 ,\n",
       "       128185.74605703, 156690.95743434, 120452.82035597, 169109.02852275,\n",
       "       117104.56430589, 208189.5393968 , 158884.32139798, 123767.53779959,\n",
       "       211768.20609248, 189179.56657198,  94524.2734812 , 210510.02887925,\n",
       "       139939.18847365, 184037.42931617, 195243.60719401, 167872.71708861,\n",
       "       155850.19303   , 209162.75630809, 137553.79578975, 105214.18069684,\n",
       "       270261.05278854, 170823.94054633, 113649.98839812, 162559.42587966,\n",
       "       144995.90486949, 301770.9889826 , 151570.91045697, 455158.50175073,\n",
       "       123114.14202491, 176249.88204966, 176396.25381888, 145947.10797222,\n",
       "       172085.8028913 , 371414.75027147, 127436.24287859, 156670.76068709,\n",
       "       144476.43760344, 101056.21352003, 202322.86646029, 137029.34734579,\n",
       "       222182.3853171 , 209502.84164381, 213522.32820226, 216311.07869683,\n",
       "        75489.14195619, 310000.46629339, 149284.8801124 , 344579.38067018,\n",
       "       123535.48069247, 406369.3154082 , 322461.2879917 , 126480.86517037,\n",
       "       218410.04470352, 244139.38455427, 208412.02392748, 185745.55938923,\n",
       "       252932.53205203, 121393.70934125, 214963.35487349, 167032.99785688,\n",
       "       187496.5485781 , 232255.06933158, 121656.57356603, 141434.87530379,\n",
       "       213986.35512243, 130729.28695382, 122201.54410004, 195796.78083263,\n",
       "       129706.26791512, 459437.52695374])"
      ]
     },
     "execution_count": 52,
     "metadata": {},
     "output_type": "execute_result"
    }
   ],
   "source": [
    "lgbm = LGBMRegressor()\n",
    "lgbm.fit(X_train, y_train)\n",
    "pred = lgbm.predict(X_test)\n",
    "pred"
   ]
  },
  {
   "cell_type": "code",
   "execution_count": 51,
   "id": "f63090a5",
   "metadata": {},
   "outputs": [
    {
     "data": {
      "text/plain": [
       "0.8801863245832537"
      ]
     },
     "execution_count": 51,
     "metadata": {},
     "output_type": "execute_result"
    }
   ],
   "source": [
    "from sklearn.metrics import r2_score\n",
    "\n",
    "r2_score( pred, y_test)"
   ]
  },
  {
   "cell_type": "code",
   "execution_count": null,
   "id": "598ff332",
   "metadata": {},
   "outputs": [],
   "source": []
  },
  {
   "cell_type": "code",
   "execution_count": null,
   "id": "e3220739",
   "metadata": {},
   "outputs": [],
   "source": []
  },
  {
   "cell_type": "code",
   "execution_count": null,
   "id": "418273cd",
   "metadata": {},
   "outputs": [],
   "source": []
  },
  {
   "cell_type": "code",
   "execution_count": null,
   "id": "9752064a",
   "metadata": {},
   "outputs": [],
   "source": []
  }
 ],
 "metadata": {
  "kernelspec": {
   "display_name": "Python 3 (ipykernel)",
   "language": "python",
   "name": "python3"
  },
  "language_info": {
   "codemirror_mode": {
    "name": "ipython",
    "version": 3
   },
   "file_extension": ".py",
   "mimetype": "text/x-python",
   "name": "python",
   "nbconvert_exporter": "python",
   "pygments_lexer": "ipython3",
   "version": "3.9.7"
  }
 },
 "nbformat": 4,
 "nbformat_minor": 5
}
