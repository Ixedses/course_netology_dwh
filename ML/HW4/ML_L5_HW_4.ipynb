{
 "cells": [
  {
   "cell_type": "markdown",
   "id": "92a6ced4",
   "metadata": {},
   "source": [
    "Импортируем библиотеки"
   ]
  },
  {
   "cell_type": "code",
   "execution_count": 1,
   "id": "99981ccc",
   "metadata": {},
   "outputs": [],
   "source": [
    "import numpy as np\n",
    "import pandas as pd\n",
    "import seaborn as sns\n",
    "\n",
    "from sklearn.linear_model import LinearRegression"
   ]
  },
  {
   "cell_type": "markdown",
   "id": "2d5036c5",
   "metadata": {},
   "source": [
    "Создаём сэмпл, дататсет в 1000 значений \n",
    "\n",
    "\n",
    "создаем обьекты в датасете"
   ]
  },
  {
   "cell_type": "code",
   "execution_count": 2,
   "id": "b3829201",
   "metadata": {},
   "outputs": [
    {
     "data": {
      "text/html": [
       "<div>\n",
       "<style scoped>\n",
       "    .dataframe tbody tr th:only-of-type {\n",
       "        vertical-align: middle;\n",
       "    }\n",
       "\n",
       "    .dataframe tbody tr th {\n",
       "        vertical-align: top;\n",
       "    }\n",
       "\n",
       "    .dataframe thead th {\n",
       "        text-align: right;\n",
       "    }\n",
       "</style>\n",
       "<table border=\"1\" class=\"dataframe\">\n",
       "  <thead>\n",
       "    <tr style=\"text-align: right;\">\n",
       "      <th></th>\n",
       "      <th>age_owner</th>\n",
       "      <th>length</th>\n",
       "      <th>width</th>\n",
       "      <th>price</th>\n",
       "    </tr>\n",
       "  </thead>\n",
       "  <tbody>\n",
       "    <tr>\n",
       "      <th>0</th>\n",
       "      <td>69</td>\n",
       "      <td>99</td>\n",
       "      <td>62</td>\n",
       "      <td>613926</td>\n",
       "    </tr>\n",
       "    <tr>\n",
       "      <th>1</th>\n",
       "      <td>43</td>\n",
       "      <td>114</td>\n",
       "      <td>55</td>\n",
       "      <td>627126</td>\n",
       "    </tr>\n",
       "    <tr>\n",
       "      <th>2</th>\n",
       "      <td>53</td>\n",
       "      <td>74</td>\n",
       "      <td>85</td>\n",
       "      <td>629126</td>\n",
       "    </tr>\n",
       "    <tr>\n",
       "      <th>3</th>\n",
       "      <td>102</td>\n",
       "      <td>134</td>\n",
       "      <td>85</td>\n",
       "      <td>1139126</td>\n",
       "    </tr>\n",
       "    <tr>\n",
       "      <th>4</th>\n",
       "      <td>32</td>\n",
       "      <td>16</td>\n",
       "      <td>52</td>\n",
       "      <td>83326</td>\n",
       "    </tr>\n",
       "  </tbody>\n",
       "</table>\n",
       "</div>"
      ],
      "text/plain": [
       "   age_owner  length  width    price\n",
       "0         69      99     62   613926\n",
       "1         43     114     55   627126\n",
       "2         53      74     85   629126\n",
       "3        102     134     85  1139126\n",
       "4         32      16     52    83326"
      ]
     },
     "execution_count": 2,
     "metadata": {},
     "output_type": "execute_result"
    }
   ],
   "source": [
    "n_samples = 1000\n",
    "\n",
    "age_owner = np.random.choice(90, n_samples) + 21\n",
    "length = np.random.choice(120, n_samples) + 15\n",
    "width = np.random.choice(80, n_samples) + 10\n",
    "\n",
    "price = length * width * 100 + 126\n",
    "\n",
    "data = pd.DataFrame({'age_owner': age_owner, 'length': length, 'width': width, 'price': price})\n",
    "data.head(5)"
   ]
  },
  {
   "cell_type": "markdown",
   "id": "a6b40952",
   "metadata": {},
   "source": [
    "смотрим информацию по дататсету"
   ]
  },
  {
   "cell_type": "code",
   "execution_count": 3,
   "id": "42678593",
   "metadata": {},
   "outputs": [
    {
     "name": "stdout",
     "output_type": "stream",
     "text": [
      "<class 'pandas.core.frame.DataFrame'>\n",
      "RangeIndex: 1000 entries, 0 to 999\n",
      "Data columns (total 4 columns):\n",
      " #   Column     Non-Null Count  Dtype\n",
      "---  ------     --------------  -----\n",
      " 0   age_owner  1000 non-null   int32\n",
      " 1   length     1000 non-null   int32\n",
      " 2   width      1000 non-null   int32\n",
      " 3   price      1000 non-null   int32\n",
      "dtypes: int32(4)\n",
      "memory usage: 15.8 KB\n"
     ]
    }
   ],
   "source": [
    "data.info()"
   ]
  },
  {
   "cell_type": "markdown",
   "id": "d8c196c4",
   "metadata": {},
   "source": [
    "Создание описательной статистики."
   ]
  },
  {
   "cell_type": "code",
   "execution_count": 4,
   "id": "934249a0",
   "metadata": {},
   "outputs": [
    {
     "data": {
      "text/html": [
       "<div>\n",
       "<style scoped>\n",
       "    .dataframe tbody tr th:only-of-type {\n",
       "        vertical-align: middle;\n",
       "    }\n",
       "\n",
       "    .dataframe tbody tr th {\n",
       "        vertical-align: top;\n",
       "    }\n",
       "\n",
       "    .dataframe thead th {\n",
       "        text-align: right;\n",
       "    }\n",
       "</style>\n",
       "<table border=\"1\" class=\"dataframe\">\n",
       "  <thead>\n",
       "    <tr style=\"text-align: right;\">\n",
       "      <th></th>\n",
       "      <th>age_owner</th>\n",
       "      <th>length</th>\n",
       "      <th>width</th>\n",
       "      <th>price</th>\n",
       "    </tr>\n",
       "  </thead>\n",
       "  <tbody>\n",
       "    <tr>\n",
       "      <th>count</th>\n",
       "      <td>1000.000000</td>\n",
       "      <td>1000.000000</td>\n",
       "      <td>1000.000000</td>\n",
       "      <td>1.000000e+03</td>\n",
       "    </tr>\n",
       "    <tr>\n",
       "      <th>mean</th>\n",
       "      <td>65.485000</td>\n",
       "      <td>74.825000</td>\n",
       "      <td>50.426000</td>\n",
       "      <td>3.749012e+05</td>\n",
       "    </tr>\n",
       "    <tr>\n",
       "      <th>std</th>\n",
       "      <td>26.057566</td>\n",
       "      <td>33.994117</td>\n",
       "      <td>23.192206</td>\n",
       "      <td>2.480619e+05</td>\n",
       "    </tr>\n",
       "    <tr>\n",
       "      <th>min</th>\n",
       "      <td>21.000000</td>\n",
       "      <td>15.000000</td>\n",
       "      <td>10.000000</td>\n",
       "      <td>2.212600e+04</td>\n",
       "    </tr>\n",
       "    <tr>\n",
       "      <th>25%</th>\n",
       "      <td>42.000000</td>\n",
       "      <td>48.000000</td>\n",
       "      <td>31.000000</td>\n",
       "      <td>1.682760e+05</td>\n",
       "    </tr>\n",
       "    <tr>\n",
       "      <th>50%</th>\n",
       "      <td>65.000000</td>\n",
       "      <td>76.000000</td>\n",
       "      <td>50.000000</td>\n",
       "      <td>3.215760e+05</td>\n",
       "    </tr>\n",
       "    <tr>\n",
       "      <th>75%</th>\n",
       "      <td>88.000000</td>\n",
       "      <td>103.000000</td>\n",
       "      <td>71.000000</td>\n",
       "      <td>5.377260e+05</td>\n",
       "    </tr>\n",
       "    <tr>\n",
       "      <th>max</th>\n",
       "      <td>110.000000</td>\n",
       "      <td>134.000000</td>\n",
       "      <td>89.000000</td>\n",
       "      <td>1.148526e+06</td>\n",
       "    </tr>\n",
       "  </tbody>\n",
       "</table>\n",
       "</div>"
      ],
      "text/plain": [
       "         age_owner       length        width         price\n",
       "count  1000.000000  1000.000000  1000.000000  1.000000e+03\n",
       "mean     65.485000    74.825000    50.426000  3.749012e+05\n",
       "std      26.057566    33.994117    23.192206  2.480619e+05\n",
       "min      21.000000    15.000000    10.000000  2.212600e+04\n",
       "25%      42.000000    48.000000    31.000000  1.682760e+05\n",
       "50%      65.000000    76.000000    50.000000  3.215760e+05\n",
       "75%      88.000000   103.000000    71.000000  5.377260e+05\n",
       "max     110.000000   134.000000    89.000000  1.148526e+06"
      ]
     },
     "execution_count": 4,
     "metadata": {},
     "output_type": "execute_result"
    }
   ],
   "source": [
    "data.describe()"
   ]
  },
  {
   "cell_type": "markdown",
   "id": "1a125944",
   "metadata": {},
   "source": [
    "импортируем библиотеку ошибку"
   ]
  },
  {
   "cell_type": "code",
   "execution_count": 6,
   "id": "7d689b6b",
   "metadata": {},
   "outputs": [],
   "source": [
    "from sklearn.metrics import mean_absolute_error"
   ]
  },
  {
   "cell_type": "markdown",
   "id": "b1b065aa",
   "metadata": {},
   "source": [
    "обучаем модель, не делим на тест и трейн так как нужно посмотреть ошибку которая на обучении, на обобщении ошибка в данном примере не нужна"
   ]
  },
  {
   "cell_type": "code",
   "execution_count": 7,
   "id": "4e77756f",
   "metadata": {},
   "outputs": [
    {
     "name": "stdout",
     "output_type": "stream",
     "text": [
      "Weights: [  89.36893398 4998.08600439 7266.13744178]\n",
      "Bias: -371335.15655872383\n"
     ]
    }
   ],
   "source": [
    "X = data[['age_owner', 'length', 'width']]\n",
    "y = data['price']\n",
    "reg = LinearRegression().fit(X, y)\n",
    "print('Weights: {}'.format(reg.coef_))\n",
    "print('Bias: {}'.format(reg.intercept_))"
   ]
  },
  {
   "cell_type": "markdown",
   "id": "b5405687",
   "metadata": {},
   "source": [
    "делаем предсказание и сравниваем ошибку с реальными значениями"
   ]
  },
  {
   "cell_type": "code",
   "execution_count": 10,
   "id": "3ef2e9da",
   "metadata": {},
   "outputs": [
    {
     "name": "stdout",
     "output_type": "stream",
     "text": [
      "Error: 58288.522568623725\n"
     ]
    }
   ],
   "source": [
    "pred_values = reg.predict(data[['age_owner', 'length', 'width']])\n",
    "print('Error: {}'.format(mean_absolute_error(pred_values, y)))"
   ]
  },
  {
   "cell_type": "markdown",
   "id": "540e3603",
   "metadata": {},
   "source": [
    "отбрасываем 1 лишний признак  'age_owner' и пробуем обучить, предсказать, и сравнить ошибку с реальнымы значениями еще раз\n"
   ]
  },
  {
   "cell_type": "code",
   "execution_count": 11,
   "id": "2cff173b",
   "metadata": {},
   "outputs": [
    {
     "name": "stdout",
     "output_type": "stream",
     "text": [
      "Weights: [4999.79774333 7266.11954331]\n",
      "Bias: -365610.0102358576\n",
      "Error: 58262.65500021203\n"
     ]
    }
   ],
   "source": [
    "X = data[['length', 'width']]\n",
    "y = data['price']\n",
    "reg = LinearRegression().fit(X, y)\n",
    "print('Weights: {}'.format(reg.coef_))\n",
    "print('Bias: {}'.format(reg.intercept_))\n",
    "\n",
    "pred_values = reg.predict(data[['length', 'width']])\n",
    "print('Error: {}'.format(mean_absolute_error(pred_values, y)))"
   ]
  },
  {
   "cell_type": "markdown",
   "id": "685acb86",
   "metadata": {},
   "source": [
    "Создаем новый признак вручную (проведя аналитику данных и поняв что \"price\" зависит от \"length * width\")\n"
   ]
  },
  {
   "cell_type": "code",
   "execution_count": 12,
   "id": "202d6c59",
   "metadata": {},
   "outputs": [
    {
     "data": {
      "text/html": [
       "<div>\n",
       "<style scoped>\n",
       "    .dataframe tbody tr th:only-of-type {\n",
       "        vertical-align: middle;\n",
       "    }\n",
       "\n",
       "    .dataframe tbody tr th {\n",
       "        vertical-align: top;\n",
       "    }\n",
       "\n",
       "    .dataframe thead th {\n",
       "        text-align: right;\n",
       "    }\n",
       "</style>\n",
       "<table border=\"1\" class=\"dataframe\">\n",
       "  <thead>\n",
       "    <tr style=\"text-align: right;\">\n",
       "      <th></th>\n",
       "      <th>age_owner</th>\n",
       "      <th>length</th>\n",
       "      <th>width</th>\n",
       "      <th>price</th>\n",
       "      <th>mult</th>\n",
       "    </tr>\n",
       "  </thead>\n",
       "  <tbody>\n",
       "    <tr>\n",
       "      <th>0</th>\n",
       "      <td>69</td>\n",
       "      <td>99</td>\n",
       "      <td>62</td>\n",
       "      <td>613926</td>\n",
       "      <td>6138</td>\n",
       "    </tr>\n",
       "    <tr>\n",
       "      <th>1</th>\n",
       "      <td>43</td>\n",
       "      <td>114</td>\n",
       "      <td>55</td>\n",
       "      <td>627126</td>\n",
       "      <td>6270</td>\n",
       "    </tr>\n",
       "    <tr>\n",
       "      <th>2</th>\n",
       "      <td>53</td>\n",
       "      <td>74</td>\n",
       "      <td>85</td>\n",
       "      <td>629126</td>\n",
       "      <td>6290</td>\n",
       "    </tr>\n",
       "    <tr>\n",
       "      <th>3</th>\n",
       "      <td>102</td>\n",
       "      <td>134</td>\n",
       "      <td>85</td>\n",
       "      <td>1139126</td>\n",
       "      <td>11390</td>\n",
       "    </tr>\n",
       "    <tr>\n",
       "      <th>4</th>\n",
       "      <td>32</td>\n",
       "      <td>16</td>\n",
       "      <td>52</td>\n",
       "      <td>83326</td>\n",
       "      <td>832</td>\n",
       "    </tr>\n",
       "  </tbody>\n",
       "</table>\n",
       "</div>"
      ],
      "text/plain": [
       "   age_owner  length  width    price   mult\n",
       "0         69      99     62   613926   6138\n",
       "1         43     114     55   627126   6270\n",
       "2         53      74     85   629126   6290\n",
       "3        102     134     85  1139126  11390\n",
       "4         32      16     52    83326    832"
      ]
     },
     "execution_count": 12,
     "metadata": {},
     "output_type": "execute_result"
    }
   ],
   "source": [
    "data['mult'] = data['length'] * data['width']\n",
    "data.head(5)"
   ]
  },
  {
   "cell_type": "markdown",
   "id": "9c749e1a",
   "metadata": {},
   "source": [
    "И строим уже по новому признаку. обучаем, предсказываем, и сраваем ошибку с реальнымы значениями еще раз\n"
   ]
  },
  {
   "cell_type": "code",
   "execution_count": 13,
   "id": "62cf510b",
   "metadata": {},
   "outputs": [
    {
     "name": "stdout",
     "output_type": "stream",
     "text": [
      "Weights: [100.]\n",
      "Bias: 126.00000000011642\n",
      "Error: 5.677429726347327e-11\n"
     ]
    }
   ],
   "source": [
    "X = data[['mult']]\n",
    "y = data['price']\n",
    "reg = LinearRegression().fit(X, y)\n",
    "print('Weights: {}'.format(reg.coef_))\n",
    "print('Bias: {}'.format(reg.intercept_))\n",
    "\n",
    "pred_values = reg.predict(data[['mult']])\n",
    "print('Error: {}'.format(mean_absolute_error(pred_values, y)))"
   ]
  },
  {
   "cell_type": "markdown",
   "id": "53ddf38f",
   "metadata": {},
   "source": [
    "Тепрь импортируем библиотеку для автоматизации процесса выше"
   ]
  },
  {
   "cell_type": "code",
   "execution_count": 14,
   "id": "75cb3491",
   "metadata": {},
   "outputs": [],
   "source": [
    "from sklearn.preprocessing import PolynomialFeatures"
   ]
  },
  {
   "cell_type": "markdown",
   "id": "d1caaf15",
   "metadata": {},
   "source": [
    "используем сторую степень полинома \n",
    "\n",
    "и генерируем новые признаки\n"
   ]
  },
  {
   "cell_type": "code",
   "execution_count": 15,
   "id": "a019979c",
   "metadata": {},
   "outputs": [
    {
     "data": {
      "text/plain": [
       "['1', 'x0', 'x1', 'x2', 'x0^2', 'x0 x1', 'x0 x2', 'x1^2', 'x1 x2', 'x2^2']"
      ]
     },
     "execution_count": 15,
     "metadata": {},
     "output_type": "execute_result"
    }
   ],
   "source": [
    "poly = PolynomialFeatures(2)\n",
    "\n",
    "X = poly.fit_transform(data[['age_owner','length','width']])\n",
    "y = data['price']\n",
    "\n",
    "poly.get_feature_names()"
   ]
  },
  {
   "cell_type": "markdown",
   "id": "13a17bfd",
   "metadata": {},
   "source": [
    " обучаем, предсказываем, и сраваем ошибку с реальнымы значениями еще раз"
   ]
  },
  {
   "cell_type": "code",
   "execution_count": 16,
   "id": "8ecb876c",
   "metadata": {},
   "outputs": [
    {
     "name": "stdout",
     "output_type": "stream",
     "text": [
      "Weights: [ 0.00000000e+00 -7.59570185e-12 -1.93578487e-12 -2.63755684e-12\n",
      "  4.92939023e-14  5.32907052e-14 -3.55271368e-14  0.00000000e+00\n",
      "  1.00000000e+02  8.52651283e-14]\n",
      "Bias: 126.0\n",
      "Error: 1.7575439414940774e-10\n"
     ]
    }
   ],
   "source": [
    "reg = LinearRegression().fit(X, y)\n",
    "print('Weights: {}'.format(reg.coef_))\n",
    "print('Bias: {}'.format(reg.intercept_))\n",
    "\n",
    "pred_values = reg.predict(X)\n",
    "print('Error: {}'.format(mean_absolute_error(pred_values, y)))"
   ]
  },
  {
   "cell_type": "markdown",
   "id": "258cc60e",
   "metadata": {},
   "source": [
    "когда модель обучалась она нашла признак 'x1 x2' из новых который хорошо соответсвует таргетной переменной 'price' и придала ему соответствующий вес 1.00000000e+02, все остальные признаки имеют незначительный вес."
   ]
  },
  {
   "cell_type": "code",
   "execution_count": null,
   "id": "cebd3e08",
   "metadata": {},
   "outputs": [],
   "source": []
  }
 ],
 "metadata": {
  "kernelspec": {
   "display_name": "Python 3 (ipykernel)",
   "language": "python",
   "name": "python3"
  },
  "language_info": {
   "codemirror_mode": {
    "name": "ipython",
    "version": 3
   },
   "file_extension": ".py",
   "mimetype": "text/x-python",
   "name": "python",
   "nbconvert_exporter": "python",
   "pygments_lexer": "ipython3",
   "version": "3.9.7"
  }
 },
 "nbformat": 4,
 "nbformat_minor": 5
}
