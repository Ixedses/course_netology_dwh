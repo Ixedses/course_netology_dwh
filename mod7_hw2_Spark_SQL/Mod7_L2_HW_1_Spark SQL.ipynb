{
 "cells": [
  {
   "cell_type": "code",
   "execution_count": 1,
   "id": "3d5d6b18",
   "metadata": {},
   "outputs": [],
   "source": [
    "from pyspark.sql import SparkSession\n",
    "from pyspark.sql.functions import *\n",
    "from pyspark.sql.window import Window\n",
    "spark = SparkSession.builder\\\n",
    "        .master(\"local[4]\")\\\n",
    "        .appName('PySpark_Tutorial')\\\n",
    "        .getOrCreate()\n",
    "\n"
   ]
  },
  {
   "cell_type": "code",
   "execution_count": 2,
   "id": "1f565566",
   "metadata": {
    "scrolled": true
   },
   "outputs": [
    {
     "data": {
      "text/plain": [
       "pyspark.sql.dataframe.DataFrame"
      ]
     },
     "execution_count": 2,
     "metadata": {},
     "output_type": "execute_result"
    }
   ],
   "source": [
    "df = spark.read.csv('owid-covid-data.csv',sep = ',',header = True, inferSchema = True)"
   ]
  },
  {
   "cell_type": "code",
   "execution_count": 3,
   "id": "520aa43f",
   "metadata": {},
   "outputs": [
    {
     "name": "stdout",
     "output_type": "stream",
     "text": [
      "+--------+-------------+--------------------+\n",
      "|iso_code|Страна       |Процент переболевших|\n",
      "+--------+-------------+--------------------+\n",
      "|VAT     |Vatican      |0.742               |\n",
      "|SMR     |San Marino   |0.695               |\n",
      "|AND     |Andorra      |0.487               |\n",
      "|LUX     |Luxembourg   |0.348               |\n",
      "|ISL     |Iceland      |0.333               |\n",
      "|ESP     |Spain        |0.205               |\n",
      "|CHE     |Switzerland  |0.192               |\n",
      "|LIE     |Liechtenstein|0.178               |\n",
      "|ITA     |Italy        |0.175               |\n",
      "|MCO     |Monaco       |0.133               |\n",
      "|AUT     |Austria      |0.113               |\n",
      "|BEL     |Belgium      |0.110               |\n",
      "|DEU     |Germany      |0.086               |\n",
      "|NOR     |Norway       |0.086               |\n",
      "|FRA     |France       |0.077               |\n",
      "+--------+-------------+--------------------+\n",
      "only showing top 15 rows\n",
      "\n"
     ]
    }
   ],
   "source": [
    "df.select(['iso_code',col('location').alias('Страна'), format_number((df['total_cases']/df['population'])*100,3)\\\n",
    "    .alias('Процент переболевших')])\\\n",
    "    .filter(~col('Страна').isin('World','Europe','European Union','Asia','South America','North America','Africa'))\\\n",
    "    .filter( col('date') == lit('2020-03-31'))\\\n",
    "    .orderBy('процент переболевших', ascending=False)\\\n",
    "    .show(15,truncate=False)"
   ]
  },
  {
   "cell_type": "code",
   "execution_count": 4,
   "id": "55797c24",
   "metadata": {},
   "outputs": [
    {
     "name": "stdout",
     "output_type": "stream",
     "text": [
      "+-------------+--------------------+--------------------------+\n",
      "|Страна       |Кол-во новых случаев|Число                     |\n",
      "+-------------+--------------------+--------------------------+\n",
      "|Brazil       |528736.0            |c 2021-03-25 по 2021-03-31|\n",
      "|United States|448300.0            |c 2021-03-25 по 2021-03-31|\n",
      "|India        |434131.0            |c 2021-03-25 по 2021-03-31|\n",
      "|France       |266069.0            |c 2021-03-25 по 2021-03-31|\n",
      "|Turkey       |225900.0            |c 2021-03-25 по 2021-03-31|\n",
      "|Poland       |201046.0            |c 2021-03-25 по 2021-03-31|\n",
      "|Italy        |144037.0            |c 2021-03-25 по 2021-03-31|\n",
      "|Germany      |120656.0            |c 2021-03-25 по 2021-03-31|\n",
      "|Ukraine      |95016.0             |c 2021-03-25 по 2021-03-31|\n",
      "|Argentina    |78944.0             |c 2021-03-25 по 2021-03-31|\n",
      "+-------------+--------------------+--------------------------+\n",
      "only showing top 10 rows\n",
      "\n"
     ]
    }
   ],
   "source": [
    "df.select(['date',col('location').alias('Страна'),'new_cases'])\\\n",
    "    .filter(~col('Страна').isin('World','Europe','European Union','Asia','South America','North America','Africa'))\\\n",
    "    .filter( (col('date') <= lit('2021-03-31')) & (col('date') >= lit('2021-03-25')))\\\n",
    "    .groupBy('Страна').agg(sum('new_cases').alias('Кол-во новых случаев'),\\\n",
    "                           lit('c 2021-03-25 по 2021-03-31').alias('Число'))\\\n",
    "    .orderBy('Кол-во новых случаев', ascending=False)\\\n",
    "    .show(10,truncate=False)"
   ]
  },
  {
   "cell_type": "code",
   "execution_count": 9,
   "id": "f9da9804",
   "metadata": {},
   "outputs": [
    {
     "name": "stdout",
     "output_type": "stream",
     "text": [
      "+----------+--------------------------+----------------------------+------+\n",
      "|Число     |Кол-во новых случаев вчера|Кол-во новых случаев сегодня|Дельта|\n",
      "+----------+--------------------------+----------------------------+------+\n",
      "|2021-03-25|8769.0                    |9128.0                      |359.0 |\n",
      "|2021-03-26|9128.0                    |9073.0                      |-55.0 |\n",
      "|2021-03-27|9073.0                    |8783.0                      |-290.0|\n",
      "|2021-03-28|8783.0                    |8979.0                      |196.0 |\n",
      "|2021-03-29|8979.0                    |8589.0                      |-390.0|\n",
      "|2021-03-30|8589.0                    |8162.0                      |-427.0|\n",
      "|2021-03-31|8162.0                    |8156.0                      |-6.0  |\n",
      "+----------+--------------------------+----------------------------+------+\n",
      "\n"
     ]
    }
   ],
   "source": [
    "df.withColumn('Кол-во новых случаев вчера',lit(lag('new_cases',1)\\\n",
    "                                                .over(Window()\\\n",
    "                                                .partitionBy(col('location'))\\\n",
    "                                                .orderBy(col('date')))))\\\n",
    "    .select([col ('date').alias ('Число'),\\\n",
    "            'Кол-во новых случаев вчера',\\\n",
    "             col('new_cases').alias('Кол-во новых случаев сегодня')])\\\n",
    "    .filter( (col('date') <= lit('2021-03-31')) & (col('date') >= lit('2021-03-25')))\\\n",
    "    .filter((col('location') == 'Russia'))\\\n",
    "    .withColumn('Дельта',col('Кол-во новых случаев сегодня')-col('Кол-во новых случаев вчера'))\\\n",
    "    .show(truncate=False)"
   ]
  },
  {
   "cell_type": "code",
   "execution_count": null,
   "id": "ce0bb192",
   "metadata": {},
   "outputs": [],
   "source": []
  }
 ],
 "metadata": {
  "kernelspec": {
   "display_name": "Python 3 (ipykernel)",
   "language": "python",
   "name": "python3"
  },
  "language_info": {
   "codemirror_mode": {
    "name": "ipython",
    "version": 3
   },
   "file_extension": ".py",
   "mimetype": "text/x-python",
   "name": "python",
   "nbconvert_exporter": "python",
   "pygments_lexer": "ipython3",
   "version": "3.9.7"
  }
 },
 "nbformat": 4,
 "nbformat_minor": 5
}
