{
 "cells": [
  {
   "cell_type": "markdown",
   "id": "65ad2030",
   "metadata": {},
   "source": [
    "### Задание 1"
   ]
  },
  {
   "cell_type": "code",
   "execution_count": 7,
   "id": "9e11b4c3",
   "metadata": {},
   "outputs": [
    {
     "name": "stdout",
     "output_type": "stream",
     "text": [
      "Фраза 1 длиннее фразы 2\n"
     ]
    }
   ],
   "source": [
    "phrase_1 = 'Насколько проще было бы писать программы, если бы не заказчики'\n",
    "phrase_2 = '640Кб должно хватить для любых задач. Билл Гейтс (по легенде)'\n",
    "#phrase_1 = '640Кб должно хватить для любых задач. Билл Гейтс (по легенде)'\n",
    "#phrase_2 = 'Насколько проще было бы писать программы, если бы не заказчики'\n",
    "#phrase_1 = 'Насколько проще было бы писать программы, если бы не заказчики'\n",
    "#phrase_2 = 'Насколько проще было бы писать программы, если бы не заказчики'\n",
    "if phrase_2<phrase_1:\n",
    "    print ('Фраза 1 длиннее фразы 2')\n",
    "elif phrase_2>phrase_1:\n",
    "    print ('Фраза 2 длиннее фразы 1')\n",
    "elif phrase_2==phrase_1:\n",
    "    print ('Фразы равной длины')"
   ]
  },
  {
   "cell_type": "markdown",
   "id": "65102f27",
   "metadata": {},
   "source": [
    "### Задание 2"
   ]
  },
  {
   "cell_type": "code",
   "execution_count": 8,
   "id": "091d4f15",
   "metadata": {},
   "outputs": [
    {
     "name": "stdout",
     "output_type": "stream",
     "text": [
      "Високосный год\n"
     ]
    }
   ],
   "source": [
    "year = 2020\n",
    "#year = 2019\n",
    "if ((year%4 == 0 and year%100 != 0) or (year%400 == 0)):\n",
    "    print('Високосный год')\n",
    "else:\n",
    "    print('Обычный год')"
   ]
  },
  {
   "cell_type": "markdown",
   "id": "dbea2352",
   "metadata": {},
   "source": [
    "### Задание 3"
   ]
  },
  {
   "cell_type": "code",
   "execution_count": 9,
   "id": "764f38fc",
   "metadata": {},
   "outputs": [
    {
     "name": "stdout",
     "output_type": "stream",
     "text": [
      "Введите день: 30\n",
      "Введите месяц: Август\n",
      "Ваш знак зодиака: Дева\n"
     ]
    }
   ],
   "source": [
    "day = int (input('Введите день: '))\n",
    "month = input ('Введите месяц: ')\n",
    "z= 'Ваш знак зодиака:' \n",
    "if (day>=21 and month == 'Март') or (day<=20 and month =='Апрель'):\n",
    "    print (z,'Овен')\n",
    "elif (day>=21 and month == 'Апрель') or (day<=21 and month =='Май'):\n",
    "    print (z,'Телец')\n",
    "elif (day>=22 and month == 'Май') or (day<=21 and month =='Июнь'):\n",
    "    print (z,'Близнецы')\n",
    "elif (day>=22 and month == 'Июнь') or (day<=22 and month =='Июль'):\n",
    "    print (z,'Рак')\n",
    "elif (day>=23 and month == 'Июль') or (day<=21 and month =='Август'):\n",
    "    print (z,'Лев')\n",
    "elif (day>=22 and month == 'Август') or (day<=23 and month =='Сентябрь'):\n",
    "    print (z,'Дева')\n",
    "elif (day>=24 and month == 'Сентябрь') or (day<=23 and month =='Октябрь'):\n",
    "    print (z,'Весы')\n",
    "elif (day>=24 and month == 'Октябрь') or (day<=22 and month =='Ноябрь'):\n",
    "    print (z,'Скорпион')\n",
    "elif (day>=23 and month == 'Ноябрь') or (day<=22 and month =='Декабрь'):\n",
    "    print (z,'Стрелец')\n",
    "elif (day>=23 and month == 'Декабрь') or (day<=20 and month =='Январь'):\n",
    "    print (z,'Козерог')\n",
    "elif (day>=21 and month == 'Январь') or (day<=19 and month =='Февраль'):\n",
    "    print (z,'Водолей')\n",
    "elif (day>=20 and month == 'Февраль') or (day<=20 and month =='Март'):\n",
    "    print (z,'Рыбы')\n"
   ]
  },
  {
   "cell_type": "markdown",
   "id": "15912e06",
   "metadata": {},
   "source": [
    "### Задание 4"
   ]
  },
  {
   "cell_type": "code",
   "execution_count": 20,
   "id": "870a7727",
   "metadata": {},
   "outputs": [
    {
     "name": "stdout",
     "output_type": "stream",
     "text": [
      "Упаковка для лыж\n"
     ]
    }
   ],
   "source": [
    "width = 10\n",
    "length = 205\n",
    "height = 5\n",
    "if width < 15 and length <15 and height <15:\n",
    "    print ('Коробка №1')\n",
    "elif 15<width<50 or 15<length<50 or 15<height<50:\n",
    "    print ('Коробка №2')\n",
    "elif 200<length:\n",
    "    print ('Упаковка для лыж')\n",
    "else:\n",
    "    print('Стандартная коробка №3')\n",
    "    "
   ]
  },
  {
   "cell_type": "markdown",
   "id": "6672ef41",
   "metadata": {},
   "source": [
    "### Задание 5"
   ]
  },
  {
   "cell_type": "code",
   "execution_count": 1,
   "id": "737cfde0",
   "metadata": {},
   "outputs": [
    {
     "name": "stdout",
     "output_type": "stream",
     "text": [
      "Обычный билет\n"
     ]
    }
   ],
   "source": [
    "number=123456\n",
    "#number = '123321'\n",
    "st=str(number)\n",
    "a=int(st[0])\n",
    "b=int(st[1])\n",
    "c=int(st[2])\n",
    "d=int(st[3])\n",
    "e=int(st[4])\n",
    "f=int(st[5])\n",
    "lev=a+b+c\n",
    "prav=d+e+f\n",
    "if lev-prav==0:\n",
    "    print(\"Счастливый билет\")\n",
    "else:\n",
    "    print(\"Обычный билет\")"
   ]
  },
  {
   "cell_type": "markdown",
   "id": "92f0bb22",
   "metadata": {},
   "source": [
    "### Задание 6"
   ]
  },
  {
   "cell_type": "code",
   "execution_count": 10,
   "id": "dccac4ab",
   "metadata": {},
   "outputs": [
    {
     "name": "stdout",
     "output_type": "stream",
     "text": [
      "Введите тип фигуры: Круг\n",
      "Введите радиус круга 10\n",
      "Площадь круга: 314.16\n"
     ]
    }
   ],
   "source": [
    "fig=input('Введите тип фигуры: ')\n",
    "if  fig=='Круг':\n",
    "    import math\n",
    "    r=int (input('Введите радиус круга '))\n",
    "    S= round((r**2)*math.pi,2)\n",
    "    print('Площадь круга:',S)\n",
    "elif fig=='Треугольник':\n",
    "    a=int (input('Введите длинну стороны А '))\n",
    "    b=int (input('Введите длинну стороны B '))\n",
    "    c=int (input('Введите длинну стороны C '))\n",
    "    p=(1/2)*(a+b+c)\n",
    "    S=round(((p*(p-a)*(p-b)*(p-c))**0.5),2)\n",
    "    print('Площадь треугольника:',S)\n",
    "elif fig=='Прямоугольник':\n",
    "    a=int (input('Введите длинну стороны А '))\n",
    "    b=int (input('Введите длинну стороны B '))\n",
    "    S=a*b\n",
    "    print('Площадь прямоугольника:',S)"
   ]
  }
 ],
 "metadata": {
  "kernelspec": {
   "display_name": "Python 3 (ipykernel)",
   "language": "python",
   "name": "python3"
  },
  "language_info": {
   "codemirror_mode": {
    "name": "ipython",
    "version": 3
   },
   "file_extension": ".py",
   "mimetype": "text/x-python",
   "name": "python",
   "nbconvert_exporter": "python",
   "pygments_lexer": "ipython3",
   "version": "3.9.7"
  }
 },
 "nbformat": 4,
 "nbformat_minor": 5
}
