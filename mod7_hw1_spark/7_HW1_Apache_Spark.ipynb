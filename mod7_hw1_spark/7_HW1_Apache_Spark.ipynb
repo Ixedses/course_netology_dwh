{
 "cells": [
  {
   "cell_type": "code",
   "execution_count": 267,
   "id": "e4fb859b",
   "metadata": {},
   "outputs": [
    {
     "data": {
      "text/html": [
       "<div>\n",
       "<style scoped>\n",
       "    .dataframe tbody tr th:only-of-type {\n",
       "        vertical-align: middle;\n",
       "    }\n",
       "\n",
       "    .dataframe tbody tr th {\n",
       "        vertical-align: top;\n",
       "    }\n",
       "\n",
       "    .dataframe thead th {\n",
       "        text-align: right;\n",
       "    }\n",
       "</style>\n",
       "<table border=\"1\" class=\"dataframe\">\n",
       "  <thead>\n",
       "    <tr style=\"text-align: right;\">\n",
       "      <th></th>\n",
       "      <th>word</th>\n",
       "      <th>count</th>\n",
       "    </tr>\n",
       "  </thead>\n",
       "  <tbody>\n",
       "    <tr>\n",
       "      <th>7462</th>\n",
       "      <td>The</td>\n",
       "      <td>2265</td>\n",
       "    </tr>\n",
       "  </tbody>\n",
       "</table>\n",
       "</div>"
      ],
      "text/plain": [
       "     word  count\n",
       "7462  The   2265"
      ]
     },
     "execution_count": 267,
     "metadata": {},
     "output_type": "execute_result"
    }
   ],
   "source": [
    "import pandas as pd\n",
    "import re\n",
    "movies=pd.read_csv('movies.csv')\n",
    "title_and_year =  movies['title']\n",
    "\n",
    "\n",
    "with open('title.csv',\"w\", encoding = 'utf-8') as f_title:\n",
    "    for title_no_year in title_and_year:\n",
    "        title_no_year = \"\\n\".join(re.split(' |:|,|!|\\)|\\(|-|&|\\.|\\?|\\'|\\#|\\$|\\*|\\+',title_no_year[:-6].strip()))        \n",
    "        f_title.write(f'{title_no_year}\\n')      \n",
    "        \n",
    "with open('word.csv', 'w', encoding = 'utf-8') as f_word:\n",
    "    with open('title.csv', encoding = 'utf-8') as f2_title:\n",
    "        for i, line in enumerate(f2_title):\n",
    "                word = line.strip()\n",
    "                f_word.write(f'{word},1\\n')\n",
    "\n",
    "            \n",
    "word_df = pd.read_csv('word.csv',names = ['word','count'])\n",
    "word_df_count = word_df.groupby('word').count().reset_index()\n",
    "word_df_count.sort_values(['count'], ascending=False).head(1)"
   ]
  }
 ],
 "metadata": {
  "kernelspec": {
   "display_name": "Python 3 (ipykernel)",
   "language": "python",
   "name": "python3"
  },
  "language_info": {
   "codemirror_mode": {
    "name": "ipython",
    "version": 3
   },
   "file_extension": ".py",
   "mimetype": "text/x-python",
   "name": "python",
   "nbconvert_exporter": "python",
   "pygments_lexer": "ipython3",
   "version": "3.9.7"
  }
 },
 "nbformat": 4,
 "nbformat_minor": 5
}
